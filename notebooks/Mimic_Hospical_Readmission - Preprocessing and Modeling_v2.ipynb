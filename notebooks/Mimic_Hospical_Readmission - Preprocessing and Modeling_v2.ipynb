{
 "cells": [
  {
   "cell_type": "markdown",
   "id": "caeb0327-ce63-4060-bc07-66438b7bfa9f",
   "metadata": {
    "tags": []
   },
   "source": [
    "# 1. Import Packages and load Data "
   ]
  },
  {
   "cell_type": "code",
   "execution_count": 22,
   "id": "aed8afe8-5336-4ef3-808f-eaf7f3f980ee",
   "metadata": {
    "tags": []
   },
   "outputs": [
    {
     "name": "stderr",
     "output_type": "stream",
     "text": [
      "[nltk_data] Downloading package stopwords to C:\\Users\\Sheng\n",
      "[nltk_data]     Miao\\AppData\\Roaming\\nltk_data...\n",
      "[nltk_data]   Package stopwords is already up-to-date!\n",
      "[nltk_data] Downloading package punkt to C:\\Users\\Sheng\n",
      "[nltk_data]     Miao\\AppData\\Roaming\\nltk_data...\n",
      "[nltk_data]   Unzipping tokenizers\\punkt.zip.\n",
      "[nltk_data] Downloading package punkt_tab to C:\\Users\\Sheng\n",
      "[nltk_data]     Miao\\AppData\\Roaming\\nltk_data...\n",
      "[nltk_data]   Package punkt_tab is already up-to-date!\n",
      "[nltk_data] Downloading package averaged_perceptron_tagger_eng to\n",
      "[nltk_data]     C:\\Users\\Sheng Miao\\AppData\\Roaming\\nltk_data...\n",
      "[nltk_data]   Package averaged_perceptron_tagger_eng is already up-to-\n",
      "[nltk_data]       date!\n",
      "[nltk_data] Downloading package wordnet to C:\\Users\\Sheng\n",
      "[nltk_data]     Miao\\AppData\\Roaming\\nltk_data...\n",
      "[nltk_data]   Package wordnet is already up-to-date!\n",
      "[nltk_data] Downloading package averaged_perceptron_tagger to\n",
      "[nltk_data]     C:\\Users\\Sheng Miao\\AppData\\Roaming\\nltk_data...\n",
      "[nltk_data]   Package averaged_perceptron_tagger is already up-to-\n",
      "[nltk_data]       date!\n",
      "[nltk_data] Downloading package omw-1.4 to C:\\Users\\Sheng\n",
      "[nltk_data]     Miao\\AppData\\Roaming\\nltk_data...\n",
      "[nltk_data]   Package omw-1.4 is already up-to-date!\n"
     ]
    },
    {
     "data": {
      "text/plain": [
       "True"
      ]
     },
     "execution_count": 22,
     "metadata": {},
     "output_type": "execute_result"
    }
   ],
   "source": [
    "# %%writefile utils/my_utils.py\n",
    "\n",
    "# Installation\n",
    "# !python -m spacy download en_core_web_sm (# English language model en_core_web_sm used by spaCy for: Tokenization, POS tagging, Lemmatization and Named Entity Recognition (NER))\n",
    "# !pip install scikit-learn\n",
    "# !pip install textblob\n",
    "# %pip install optuna (# Unlike !pip, %pip installs into the current Jupyter kernel's environment reliably)\n",
    "# %pip install imblearn\n",
    "# %pip install --upgrade optuna\n",
    "# %pip install xgboost lightgbm\n",
    "# %pip install shap\n",
    "\n",
    "# Standard libraries\n",
    "import os, io, datetime, sys, json\n",
    "import shutil, subprocess, pathlib, shlex, platform\n",
    "from tqdm import tqdm\n",
    "import joblib\n",
    "from pathlib import Path\n",
    "import multiprocessing as mp\n",
    "\n",
    "# Data manipulation\n",
    "import pandas as pd\n",
    "import numpy as np\n",
    "\n",
    "# Visualization\n",
    "import matplotlib.pyplot as plt\n",
    "import seaborn as sns\n",
    "\n",
    "# Split to training and testing datasets\n",
    "from sklearn.model_selection import train_test_split\n",
    "\n",
    "# Feature scaling\n",
    "from sklearn.preprocessing import PowerTransformer\n",
    "\n",
    "# Machine learning\n",
    "from sklearn.linear_model import LogisticRegression\n",
    "from sklearn.ensemble import RandomForestClassifier, StackingClassifier\n",
    "from sklearn.model_selection import cross_val_score, StratifiedKFold, cross_val_predict, cross_validate\n",
    "from sklearn.metrics import (\n",
    "    make_scorer, \n",
    "    roc_auc_score, \n",
    "    average_precision_score, \n",
    "    precision_score, \n",
    "    recall_score,\n",
    "    fbeta_score,\n",
    ")\n",
    "from sklearn.base import clone\n",
    "import sklearn\n",
    "import optuna\n",
    "from imblearn.over_sampling import SMOTE\n",
    "from imblearn.pipeline import Pipeline as ImbPipeline\n",
    "import xgboost as xgb\n",
    "import lightgbm as lgb\n",
    "import shap\n",
    "\n",
    "#  Natural Language Processing (NLP)\n",
    "import re, string\n",
    "import nltk\n",
    "from nltk import pos_tag, word_tokenize\n",
    "from nltk.corpus import stopwords, wordnet\n",
    "from nltk.stem import WordNetLemmatizer\n",
    "from textblob import TextBlob\n",
    "from collections import Counter\n",
    "import spacy\n",
    "from spacy.tokens import Doc\n",
    "from sklearn.feature_extraction.text import TfidfVectorizer\n",
    "\n",
    "# Download required resources\n",
    "nltk.download('stopwords') # for stopword lists\n",
    "nltk.download('punkt',  force=True)\n",
    "nltk.download('punkt_tab')\n",
    "nltk.download('averaged_perceptron_tagger_eng')\n",
    "nltk.download('wordnet') # for lemmatization\n",
    "nltk.download('averaged_perceptron_tagger') # for POS tagging\n",
    "nltk.download('omw-1.4')"
   ]
  },
  {
   "cell_type": "code",
   "execution_count": 53,
   "id": "4150bb61",
   "metadata": {},
   "outputs": [],
   "source": [
    "root_dir = Path.cwd().parent\n",
    "data_dir = root_dir / \"data\"\n",
    "data_dir.mkdir(exist_ok=True)         # create folder if missing\n",
    "\n",
    "tfidf = pd.read_csv(data_dir/'tfidf_strkept_2.csv')\n",
    "clinbert = pd.read_csv(data_dir/'clinbert_strkept_2.csv')\n",
    "tfidfbert = pd.read_csv(data_dir/'tfidf_clinbert_strkept_2.csv')\n",
    "clinbert_only = pd.read_csv(data_dir/'clinbert_2.csv')\n"
   ]
  },
  {
   "cell_type": "markdown",
   "id": "2699ca70-13ae-4829-b23e-33e08d98d635",
   "metadata": {},
   "source": [
    "# 2. Data Cleaning and EDA"
   ]
  },
  {
   "cell_type": "markdown",
   "id": "00c879ca-6f33-418d-8c49-8a32737332d8",
   "metadata": {},
   "source": [
    "## 2.1 Eliminate Non-Predictive or Redundant Columns"
   ]
  },
  {
   "cell_type": "markdown",
   "id": "c10c282f-1454-4509-b678-3b9f6aa89736",
   "metadata": {},
   "source": [
    "### Feature Selection Summary for Modeling\n",
    "\n",
    "#### Columns to Keep (after preprocessing if needed):\n",
    "\n",
    "- `length_of_icu_stay_hours`, `admit_to_disch_hours`  \n",
    "  - hour-based durations.\n",
    "- `note_length`, `word_count`  \n",
    "  - Simple text-based numeric features — useful for modeling.\n",
    "- `spacy_lemmas_n`, `advanced_spacy_lemmas_n`  \n",
    "  - Counts of tokens/lemmas — useful numeric features.\n",
    "\n",
    "#### Columns to Drop Before Modeling:\n",
    "\n",
    "- `subject_id`, `hadm_id`, `icu_stay_id`, `note_id`  \n",
    "  - Identifiers — not useful for modeling; drop unless used for grouping/joining.\n",
    "- `note_text`, `spacy_lemmas`, `advanced_spacy_lemmas`  \n",
    "  - Raw/semi-processed text — drop **after** extracting features.\n",
    "- `admittime`, `dischtime`, `intime`, `outtime`, `next_admittime`\n",
    "  - Already convert to durations or extract time features (e.g., time of day, length of stay).\n",
    "- `lemma_text`  \n",
    "  - Already apply to text vectorization (e.g., TF-IDF or ClinicalBERT).\n",
    "- `length_of_icu_stay`, `admit_to_disch`, `days_to_next_admit`  \n",
    "  - Day-based durations, redundent to hour-based durations or binary values which have been kept."
   ]
  },
  {
   "cell_type": "code",
   "execution_count": 24,
   "id": "0189f057-d687-444e-b546-888d0f0f98d1",
   "metadata": {
    "tags": []
   },
   "outputs": [],
   "source": [
    "cols_to_drop = ['subject_id', 'hadm_id', 'note_id', 'note_text', 'admittime', 'dischtime', 'admit_to_disch', 'next_admittime', 'days_to_next_admit' ]\n",
    "\n",
    "cols_to_keep = ['admit_to_disch_hours', 'note_length', 'word_count', 'advanced_spacy_lemmas_n', 'readmit_30days', 'icu_stay_count', 'total_icu_hours', 'time_to_first_icu_hours', 'last_icu_to_discharge_hours']\n",
    "\n",
    "tfidf_elim = tfidf.drop(columns=cols_to_drop)\n",
    "clinbert_elim = clinbert.drop(columns=cols_to_drop)\n",
    "tfidfbert_elim = tfidfbert.drop(columns=cols_to_drop)"
   ]
  },
  {
   "cell_type": "code",
   "execution_count": 25,
   "id": "f738ff59",
   "metadata": {},
   "outputs": [
    {
     "name": "stdout",
     "output_type": "stream",
     "text": [
      "Index(['admit_to_disch_hours', 'readmit_30days', 'note_length', 'word_count',\n",
      "       'advanced_spacy_lemmas_n', 'icu_stay_count', 'total_icu_hours',\n",
      "       'time_to_first_icu_hours', 'last_icu_to_discharge_hours', 'tfidf__ab',\n",
      "       ...\n",
      "       'tfidf__xl daily', 'tfidf__year', 'tfidf__year ago', 'tfidf__year old',\n",
      "       'tfidf__yeast', 'tfidf__yeast none', 'tfidf__yellow', 'tfidf__yes',\n",
      "       'tfidf__yesterday', 'tfidf__yo'],\n",
      "      dtype='object', length=2009)\n"
     ]
    }
   ],
   "source": [
    "print(tfidf_elim.columns)"
   ]
  },
  {
   "cell_type": "markdown",
   "id": "1db2a94b",
   "metadata": {},
   "source": [
    "## 2.2 Impute missing values"
   ]
  },
  {
   "cell_type": "code",
   "execution_count": 26,
   "id": "fe1d7f6c",
   "metadata": {},
   "outputs": [
    {
     "name": "stdout",
     "output_type": "stream",
     "text": [
      "time_to_first_icu_hours        7729\n",
      "last_icu_to_discharge_hours    7729\n",
      "dtype: int64\n"
     ]
    }
   ],
   "source": [
    "tfidf_elim_null = tfidf_elim.isnull().sum()\n",
    "tfidf_elim_isnull = tfidf_elim_null[tfidf_elim_null > 0]\n",
    "print(tfidf_elim_isnull)"
   ]
  },
  {
   "cell_type": "code",
   "execution_count": 27,
   "id": "bbed2b16",
   "metadata": {},
   "outputs": [
    {
     "name": "stdout",
     "output_type": "stream",
     "text": [
      "time_to_first_icu_hours        7729\n",
      "last_icu_to_discharge_hours    7729\n",
      "dtype: int64\n"
     ]
    }
   ],
   "source": [
    "clinbert_elim_null = clinbert_elim.isnull().sum()\n",
    "clinbert_elim_isnull = clinbert_elim_null[clinbert_elim_null > 0]\n",
    "print(clinbert_elim_isnull)"
   ]
  },
  {
   "cell_type": "code",
   "execution_count": 28,
   "id": "719bbd6f",
   "metadata": {},
   "outputs": [
    {
     "name": "stdout",
     "output_type": "stream",
     "text": [
      "time_to_first_icu_hours        7729\n",
      "last_icu_to_discharge_hours    7729\n",
      "dtype: int64\n"
     ]
    }
   ],
   "source": [
    "tfidfbert_elim_null = tfidfbert_elim.isnull().sum()\n",
    "tfidfbert_elim_isnull = tfidfbert_elim_null[tfidfbert_elim_null > 0]\n",
    "print(tfidfbert_elim_isnull)"
   ]
  },
  {
   "cell_type": "code",
   "execution_count": 29,
   "id": "c364b057",
   "metadata": {},
   "outputs": [
    {
     "name": "stdout",
     "output_type": "stream",
     "text": [
      "7729\n"
     ]
    }
   ],
   "source": [
    "print(len(tfidf_elim.loc[tfidf_elim.total_icu_hours==0, :]))"
   ]
  },
  {
   "cell_type": "markdown",
   "id": "08943e8c",
   "metadata": {},
   "source": [
    "Set timing to full admission length for admissions without ICU stay"
   ]
  },
  {
   "cell_type": "code",
   "execution_count": 30,
   "id": "f2fbd902",
   "metadata": {},
   "outputs": [],
   "source": [
    "datasets = [tfidf_elim, clinbert_elim, tfidfbert_elim]\n",
    "cols = ['time_to_first_icu_hours', 'last_icu_to_discharge_hours']\n",
    "\n",
    "for d in datasets: \n",
    "    for c in cols:\n",
    "        d.loc[:, c] = d[c].fillna(d['admit_to_disch_hours'])\n"
   ]
  },
  {
   "cell_type": "code",
   "execution_count": 31,
   "id": "c60d3d6a",
   "metadata": {},
   "outputs": [
    {
     "name": "stdout",
     "output_type": "stream",
     "text": [
      "Series([], dtype: int64)\n"
     ]
    }
   ],
   "source": [
    "tfidf_elim_null = tfidf_elim.isnull().sum()\n",
    "tfidf_elim_isnull = tfidf_elim_null[tfidf_elim_null > 0]\n",
    "print(tfidf_elim_isnull)"
   ]
  },
  {
   "cell_type": "code",
   "execution_count": 32,
   "id": "6c9f7617",
   "metadata": {},
   "outputs": [
    {
     "name": "stdout",
     "output_type": "stream",
     "text": [
      "Series([], dtype: int64)\n"
     ]
    }
   ],
   "source": [
    "clinbert_elim_null = clinbert_elim.isnull().sum()\n",
    "clinbert_elim_isnull = clinbert_elim_null[clinbert_elim_null > 0]\n",
    "print(clinbert_elim_isnull)"
   ]
  },
  {
   "cell_type": "code",
   "execution_count": 33,
   "id": "c19b0ee7",
   "metadata": {},
   "outputs": [
    {
     "name": "stdout",
     "output_type": "stream",
     "text": [
      "Series([], dtype: int64)\n"
     ]
    }
   ],
   "source": [
    "tfidfbert_elim_null = tfidfbert_elim.isnull().sum()\n",
    "tfidfbert_elim_isnull = tfidfbert_elim_null[tfidfbert_elim_null > 0]\n",
    "print(tfidfbert_elim_isnull)"
   ]
  },
  {
   "cell_type": "markdown",
   "id": "9481ff29",
   "metadata": {},
   "source": [
    "## 2.3 Visualize Relationships Between Variables"
   ]
  },
  {
   "cell_type": "code",
   "execution_count": 34,
   "id": "684b2d89",
   "metadata": {},
   "outputs": [
    {
     "data": {
      "image/png": "[encoded data removed]",
      "text/plain": [
       "<Figure size 1500x1200 with 8 Axes>"
      ]
     },
     "metadata": {},
     "output_type": "display_data"
    }
   ],
   "source": [
    "target = 'readmit_30days'\n",
    "predictors = [c for c in cols_to_keep if c != target and c in tfidf_elim.columns]\n",
    "\n",
    "n_bins = 5\n",
    "zero_bar_cols = {'total_icu_hours'}   # still special-case zero for this col\n",
    "\n",
    "n = len(predictors)\n",
    "rows = cols = int(np.ceil(np.sqrt(n)))\n",
    "fig, axes = plt.subplots(rows, cols, figsize=(5*cols, 4*rows))\n",
    "axes = np.ravel(axes)\n",
    "\n",
    "for i, col in enumerate(predictors):\n",
    "    tmp = tfidf_elim[[col, target]].dropna().copy()\n",
    "\n",
    "    # datetime/timedelta to numeric\n",
    "    if np.issubdtype(tmp[col].dtype, np.timedelta64):\n",
    "        tmp[col] = tmp[col].dt.total_seconds() / 3600.0\n",
    "    if np.issubdtype(tmp[col].dtype, np.datetime64):\n",
    "        tmp[col] = tmp[col].astype('int64')\n",
    "\n",
    "    if col == 'icu_stay_count':\n",
    "        # discrete bars: 0,1,2,3,4,(5+ if present)\n",
    "        tmp[col] = pd.to_numeric(tmp[col], errors='coerce').fillna(0).astype(int)\n",
    "        tmp['bin'] = tmp[col]\n",
    "        has_5plus = (tmp['bin'] >= 5).any()\n",
    "        if has_5plus:\n",
    "            tmp.loc[tmp['bin'] >= 5, 'bin'] = 5\n",
    "            order = [0, 1, 2, 3, 4, 5]\n",
    "            labels = ['0', '1', '2', '3', '4', '5+']\n",
    "        else:\n",
    "            order = [0, 1, 2, 3, 4]\n",
    "            labels = ['0', '1', '2', '3', '4']\n",
    "        tmp['bin'] = pd.Categorical(tmp['bin'], categories=order, ordered=True)\n",
    "        show_labels = labels\n",
    "\n",
    "    elif col in zero_bar_cols:\n",
    "        # zero gets its own bar; non-zeros are quantile-binned\n",
    "        mask0 = (tmp[col] == 0)\n",
    "        bins = pd.Series(index=tmp.index, dtype=\"object\")\n",
    "        nz = tmp.loc[~mask0, col]\n",
    "\n",
    "        if nz.empty:\n",
    "            labels = []\n",
    "        elif nz.nunique() == 1:\n",
    "            single = f\"{nz.iloc[0]:.2f}\"\n",
    "            bins.loc[~mask0] = single\n",
    "            labels = [single]\n",
    "        else:\n",
    "            qbins = pd.qcut(nz, q=n_bins, duplicates='drop')\n",
    "            cats = qbins.cat.categories\n",
    "            labels = [f\"{c.left:.2f}-{c.right:.2f}\" for c in cats]\n",
    "            qbins = qbins.cat.rename_categories(labels)\n",
    "            bins.loc[~mask0] = qbins.astype(str)\n",
    "\n",
    "        bins.loc[mask0] = '0'\n",
    "        order = ['0'] + labels\n",
    "        tmp['bin'] = pd.Categorical(bins, categories=order, ordered=True)\n",
    "        show_labels = order\n",
    "\n",
    "    else:\n",
    "        # default: quantile bins\n",
    "        qbins = pd.qcut(tmp[col], q=n_bins, duplicates='drop')\n",
    "        cats = qbins.cat.categories\n",
    "        labels = [f\"{c.left:.2f}-{c.right:.2f}\" for c in cats]\n",
    "        tmp['bin'] = qbins.cat.rename_categories(labels)\n",
    "        show_labels = labels\n",
    "\n",
    "    # aggregate readmit rate per bin\n",
    "    agg = (tmp.groupby('bin', observed=True)\n",
    "              .agg(readmit_rate=(target, 'mean'), n=('bin', 'size'))\n",
    "              .reset_index())\n",
    "    agg['readmit_pct'] = 100 * agg['readmit_rate']\n",
    "\n",
    "    # plot\n",
    "    ax = axes[i]\n",
    "    ax.bar(agg['bin'].astype(str), agg['readmit_pct'])\n",
    "    ax.set_title(f\"30-day Readmission by {col} quantiles\")\n",
    "    ax.set_xlabel(f\"{col} — quantile bins\")\n",
    "    ax.set_ylabel(\"Readmission rate (%)\")\n",
    "    ax.tick_params(axis='x', rotation=35)\n",
    "\n",
    "    ymax = agg['readmit_pct'].max() * 1.15\n",
    "    ax.set_ylim(0, ymax)\n",
    "    for p, (x, pct, n_) in enumerate(zip(agg['bin'].astype(str), agg['readmit_pct'], agg['n'])):\n",
    "        ax.text(p, pct + agg['readmit_pct'].max()*0.03, f\"n={n_}\", ha='center', va='bottom', fontsize=9)\n",
    "\n",
    "# clean extra axes\n",
    "for j in range(i+1, len(axes)):\n",
    "    fig.delaxes(axes[j])\n",
    "\n",
    "plt.tight_layout()\n",
    "plt.show()\n"
   ]
  },
  {
   "cell_type": "markdown",
   "id": "81a71793-5477-4e4c-8619-3dabdfb4f8bc",
   "metadata": {},
   "source": [
    "# 3. Feature Engineering"
   ]
  },
  {
   "cell_type": "markdown",
   "id": "89d81df7-19d6-4408-8cb2-0660af2cf449",
   "metadata": {},
   "source": [
    "## 3.1 Examine the Distribution of Retained Variables"
   ]
  },
  {
   "cell_type": "code",
   "execution_count": 35,
   "id": "ed79aa46-942b-456d-a899-efa2aaef1309",
   "metadata": {
    "tags": []
   },
   "outputs": [
    {
     "data": {
      "image/png": "[encoded data removed]",
      "text/plain": [
       "<Figure size 1500x1000 with 9 Axes>"
      ]
     },
     "metadata": {},
     "output_type": "display_data"
    }
   ],
   "source": [
    "# Plot distributions\n",
    "fig, axes = plt.subplots(nrows=3, ncols=3, figsize=(15, 10))\n",
    "axes = axes.flatten()\n",
    "\n",
    "for i, col in enumerate(cols_to_keep):\n",
    "    sns.histplot(tfidf_elim[col], bins=30, kde=True, ax=axes[i])\n",
    "    axes[i].set_title(col)\n",
    "\n",
    "# Remove empty subplots (if any)\n",
    "for idx in range(i + 1, len(axes)):\n",
    "    fig.delaxes(axes[idx])\n",
    "\n",
    "plt.tight_layout()\n",
    "plt.show()"
   ]
  },
  {
   "cell_type": "markdown",
   "id": "2bb63177-20cc-4550-aad5-574a015b7769",
   "metadata": {},
   "source": [
    "## 3.2 Assigned Scalers for Retained Variables"
   ]
  },
  {
   "cell_type": "markdown",
   "id": "b721fe1e-22c5-4e7a-a8db-f8a545757325",
   "metadata": {},
   "source": [
    "### Scaler Selection Logic\n",
    "\n",
    "|Condition | Best Scaling Method |\n",
    "|------------| -------------------- |\n",
    "|Near-normal distributions with limited outliers| StandardScaler | \n",
    "|Non-Gaussian but no extreme outliers | MinMaxScaler | \n",
    "|Strong outliers, large spread, or moderate skew | RobustScaler | \n",
    "|Highly skewed (e.g., >1.0), heavy-tailed distribution | Log Transformation | "
   ]
  },
  {
   "cell_type": "code",
   "execution_count": 36,
   "id": "0d9325e5",
   "metadata": {},
   "outputs": [
    {
     "name": "stdout",
     "output_type": "stream",
     "text": [
      "c:\\Users\\Sheng Miao\\OneDrive\\桌面\\DS\\Capstone projects\\Mimic_Readmit_Clinbert\\utils\\auto_assign_scalers.py\n"
     ]
    }
   ],
   "source": [
    "# --- Make the project root importable ---------------------------------\n",
    "import sys, pathlib\n",
    "\n",
    "package_parent = pathlib.Path.cwd().parents[1]          # two levels up from notebooks/\n",
    "if str(package_parent) not in sys.path:             # keep sys.path tidy\n",
    "    sys.path.insert(0, str(package_parent))\n",
    "\n",
    "import importlib\n",
    "import Mimic_Readmit_Clinbert.utils.auto_assign_scalers as aas\n",
    "\n",
    "print(aas.__file__)            # sanity-check the path being imported\n",
    "importlib.reload(aas)          # reload after saving your edits\n",
    "\n",
    "from Mimic_Readmit_Clinbert.utils.auto_assign_scalers import auto_assign_scalers\n"
   ]
  },
  {
   "cell_type": "code",
   "execution_count": 37,
   "id": "6fbfe490-bf4b-4854-97b8-362e8d91555c",
   "metadata": {
    "tags": []
   },
   "outputs": [
    {
     "data": {
      "image/png": "[encoded data removed]",
      "text/plain": [
       "<Figure size 2000x270 with 1 Axes>"
      ]
     },
     "metadata": {},
     "output_type": "display_data"
    }
   ],
   "source": [
    "# Apply the customized function auto_assign_scalers() to classify 6 numerical variables\n",
    "scaler_results, statistics = auto_assign_scalers(tfidf_elim, cols_to_keep)\n",
    "\n",
    "# Display the assigned scalers for each variable\n",
    "scaler_df = pd.DataFrame({key: pd.Series(val) for key, val in scaler_results.items()})\n",
    "statistics_df = pd.DataFrame({key: pd.Series(val) for key, val in statistics.items()})\n",
    "scaler_df = scaler_df.fillna('')\n",
    "\n",
    "# Set up figure and axis\n",
    "fig, ax = plt.subplots(figsize=(20, len(scaler_df) * 0.3))  # Adjust height based on number of rows\n",
    "\n",
    "# Hide axes\n",
    "ax.axis('off')\n",
    "\n",
    "# Create the table and add it to the plot\n",
    "table = pd.plotting.table(ax, scaler_df, loc='center', cellLoc='center', colWidths=[0.15]*len(scaler_df.columns))\n",
    "\n",
    "# Style the table\n",
    "table.auto_set_font_size(False)\n",
    "table.set_fontsize(10)\n",
    "table.scale(1, 1.2)\n",
    "\n",
    "# Bold the header row\n",
    "for (row, col), cell in table.get_celld().items():\n",
    "    if row == 0:\n",
    "        cell.set_text_props(weight='bold')\n",
    "\n"
   ]
  },
  {
   "cell_type": "markdown",
   "id": "020120a6-5af6-425a-9674-0318de7f2987",
   "metadata": {},
   "source": [
    "## 3.3 Split Data into Training and Testing Sets first, then Apply Feature Scaling"
   ]
  },
  {
   "cell_type": "code",
   "execution_count": 38,
   "id": "e61927d7-f004-4368-9132-2c90196bf677",
   "metadata": {
    "tags": []
   },
   "outputs": [],
   "source": [
    "X_train_tfidf, X_test_tfidf, y_train_tfidf, y_test_tfidf = train_test_split(tfidf_elim.drop(columns=['readmit_30days']),\n",
    "                                                    tfidf_elim['readmit_30days'], test_size=0.3, \n",
    "                                                    random_state=42)\n",
    "X_train_clinbert, X_test_clinbert, y_train_clinbert, y_test_clinbert = train_test_split(clinbert_elim.drop(columns=['readmit_30days']),\n",
    "                                                    clinbert_elim['readmit_30days'], test_size=0.3, \n",
    "                                                    random_state=42)\n",
    "X_train_tfidfbert, X_test_tfidfbert, y_train_tfidfbert, y_test_tfidfbert = train_test_split(tfidfbert_elim.drop(columns=['readmit_30days']),\n",
    "                                                    tfidfbert_elim['readmit_30days'], test_size=0.3, \n",
    "                                                    random_state=42)"
   ]
  },
  {
   "cell_type": "code",
   "execution_count": 39,
   "id": "d9ff4a23",
   "metadata": {},
   "outputs": [
    {
     "name": "stdout",
     "output_type": "stream",
     "text": [
      "Series([], dtype: int64)\n"
     ]
    }
   ],
   "source": [
    "X_train_tfidf_null = X_train_tfidf.isnull().sum()\n",
    "X_train_tfidf_isnull = X_train_tfidf_null[X_train_tfidf_null > 0]\n",
    "print(X_train_tfidf_isnull)"
   ]
  },
  {
   "cell_type": "code",
   "execution_count": 40,
   "id": "40ebbef6",
   "metadata": {},
   "outputs": [
    {
     "data": {
      "text/plain": [
       "Series([], Name: time_to_first_icu_hours, dtype: float64)"
      ]
     },
     "execution_count": 40,
     "metadata": {},
     "output_type": "execute_result"
    }
   ],
   "source": [
    "X_train_tfidf.loc[X_train_tfidf.time_to_first_icu_hours < 0, 'time_to_first_icu_hours']"
   ]
  },
  {
   "cell_type": "code",
   "execution_count": 41,
   "id": "1a816bd0",
   "metadata": {},
   "outputs": [
    {
     "data": {
      "text/plain": [
       "Series([], Name: last_icu_to_discharge_hours, dtype: float64)"
      ]
     },
     "execution_count": 41,
     "metadata": {},
     "output_type": "execute_result"
    }
   ],
   "source": [
    "X_train_tfidf.loc[X_train_tfidf.last_icu_to_discharge_hours < 0, 'last_icu_to_discharge_hours']"
   ]
  },
  {
   "cell_type": "code",
   "execution_count": 42,
   "id": "fa7f5090",
   "metadata": {},
   "outputs": [],
   "source": [
    "from Mimic_Readmit_Clinbert.utils.feature_scaling import feature_scaling\n",
    "cols_to_scale = ['admit_to_disch_hours', 'note_length', 'word_count', 'advanced_spacy_lemmas_n', 'icu_stay_count', 'total_icu_hours', 'time_to_first_icu_hours', 'last_icu_to_discharge_hours']\n",
    "X_train_tfidf, X_test_tfidf = feature_scaling(X_train_tfidf, X_test_tfidf, cols_to_scale, statistics)\n",
    "X_train_clinbert, X_test_clinbert = feature_scaling(X_train_clinbert, X_test_clinbert, cols_to_scale, statistics)\n",
    "X_train_tfidfbert, X_test_tfidfbert = feature_scaling(X_train_tfidfbert, X_test_tfidfbert, cols_to_scale, statistics)"
   ]
  },
  {
   "cell_type": "code",
   "execution_count": 43,
   "id": "addfc4e3",
   "metadata": {},
   "outputs": [
    {
     "data": {
      "text/html": [
       "<div>\n",
       "<style scoped>\n",
       "    .dataframe tbody tr th:only-of-type {\n",
       "        vertical-align: middle;\n",
       "    }\n",
       "\n",
       "    .dataframe tbody tr th {\n",
       "        vertical-align: top;\n",
       "    }\n",
       "\n",
       "    .dataframe thead th {\n",
       "        text-align: right;\n",
       "    }\n",
       "</style>\n",
       "<table border=\"1\" class=\"dataframe\">\n",
       "  <thead>\n",
       "    <tr style=\"text-align: right;\">\n",
       "      <th></th>\n",
       "      <th>admit_to_disch_hours</th>\n",
       "      <th>note_length</th>\n",
       "      <th>word_count</th>\n",
       "      <th>advanced_spacy_lemmas_n</th>\n",
       "      <th>icu_stay_count</th>\n",
       "      <th>total_icu_hours</th>\n",
       "      <th>time_to_first_icu_hours</th>\n",
       "      <th>last_icu_to_discharge_hours</th>\n",
       "    </tr>\n",
       "  </thead>\n",
       "  <tbody>\n",
       "    <tr>\n",
       "      <th>9069</th>\n",
       "      <td>2.472328</td>\n",
       "      <td>8.985570</td>\n",
       "      <td>7.075809</td>\n",
       "      <td>6.523562</td>\n",
       "      <td>0.000000</td>\n",
       "      <td>0.000000</td>\n",
       "      <td>2.472328</td>\n",
       "      <td>2.472328</td>\n",
       "    </tr>\n",
       "    <tr>\n",
       "      <th>2603</th>\n",
       "      <td>4.278285</td>\n",
       "      <td>9.021357</td>\n",
       "      <td>7.142827</td>\n",
       "      <td>6.502790</td>\n",
       "      <td>0.693147</td>\n",
       "      <td>3.919032</td>\n",
       "      <td>0.861482</td>\n",
       "      <td>3.063313</td>\n",
       "    </tr>\n",
       "    <tr>\n",
       "      <th>7738</th>\n",
       "      <td>4.227563</td>\n",
       "      <td>9.143239</td>\n",
       "      <td>7.287561</td>\n",
       "      <td>6.715383</td>\n",
       "      <td>0.000000</td>\n",
       "      <td>0.000000</td>\n",
       "      <td>4.227563</td>\n",
       "      <td>4.227563</td>\n",
       "    </tr>\n",
       "    <tr>\n",
       "      <th>1579</th>\n",
       "      <td>4.138893</td>\n",
       "      <td>9.048645</td>\n",
       "      <td>7.125283</td>\n",
       "      <td>6.507278</td>\n",
       "      <td>0.000000</td>\n",
       "      <td>0.000000</td>\n",
       "      <td>4.138893</td>\n",
       "      <td>4.138893</td>\n",
       "    </tr>\n",
       "    <tr>\n",
       "      <th>5058</th>\n",
       "      <td>4.243483</td>\n",
       "      <td>8.604288</td>\n",
       "      <td>6.792344</td>\n",
       "      <td>6.104793</td>\n",
       "      <td>0.000000</td>\n",
       "      <td>0.000000</td>\n",
       "      <td>4.243483</td>\n",
       "      <td>4.243483</td>\n",
       "    </tr>\n",
       "  </tbody>\n",
       "</table>\n",
       "</div>"
      ],
      "text/plain": [
       "      admit_to_disch_hours  note_length  word_count  advanced_spacy_lemmas_n  \\\n",
       "9069              2.472328     8.985570    7.075809                 6.523562   \n",
       "2603              4.278285     9.021357    7.142827                 6.502790   \n",
       "7738              4.227563     9.143239    7.287561                 6.715383   \n",
       "1579              4.138893     9.048645    7.125283                 6.507278   \n",
       "5058              4.243483     8.604288    6.792344                 6.104793   \n",
       "\n",
       "      icu_stay_count  total_icu_hours  time_to_first_icu_hours  \\\n",
       "9069        0.000000         0.000000                 2.472328   \n",
       "2603        0.693147         3.919032                 0.861482   \n",
       "7738        0.000000         0.000000                 4.227563   \n",
       "1579        0.000000         0.000000                 4.138893   \n",
       "5058        0.000000         0.000000                 4.243483   \n",
       "\n",
       "      last_icu_to_discharge_hours  \n",
       "9069                     2.472328  \n",
       "2603                     3.063313  \n",
       "7738                     4.227563  \n",
       "1579                     4.138893  \n",
       "5058                     4.243483  "
      ]
     },
     "execution_count": 43,
     "metadata": {},
     "output_type": "execute_result"
    }
   ],
   "source": [
    "X_train_tfidf[cols_to_scale].head()"
   ]
  },
  {
   "cell_type": "code",
   "execution_count": 44,
   "id": "f62e2005",
   "metadata": {},
   "outputs": [
    {
     "data": {
      "text/html": [
       "<div>\n",
       "<style scoped>\n",
       "    .dataframe tbody tr th:only-of-type {\n",
       "        vertical-align: middle;\n",
       "    }\n",
       "\n",
       "    .dataframe tbody tr th {\n",
       "        vertical-align: top;\n",
       "    }\n",
       "\n",
       "    .dataframe thead th {\n",
       "        text-align: right;\n",
       "    }\n",
       "</style>\n",
       "<table border=\"1\" class=\"dataframe\">\n",
       "  <thead>\n",
       "    <tr style=\"text-align: right;\">\n",
       "      <th></th>\n",
       "      <th>admit_to_disch_hours</th>\n",
       "      <th>note_length</th>\n",
       "      <th>word_count</th>\n",
       "      <th>advanced_spacy_lemmas_n</th>\n",
       "      <th>icu_stay_count</th>\n",
       "      <th>total_icu_hours</th>\n",
       "      <th>time_to_first_icu_hours</th>\n",
       "      <th>last_icu_to_discharge_hours</th>\n",
       "    </tr>\n",
       "  </thead>\n",
       "  <tbody>\n",
       "    <tr>\n",
       "      <th>6252</th>\n",
       "      <td>4.747104</td>\n",
       "      <td>9.917292</td>\n",
       "      <td>8.033658</td>\n",
       "      <td>7.463937</td>\n",
       "      <td>0.693147</td>\n",
       "      <td>3.704596</td>\n",
       "      <td>0.980829</td>\n",
       "      <td>4.303385</td>\n",
       "    </tr>\n",
       "    <tr>\n",
       "      <th>4684</th>\n",
       "      <td>3.268935</td>\n",
       "      <td>9.310909</td>\n",
       "      <td>7.419980</td>\n",
       "      <td>6.870053</td>\n",
       "      <td>0.000000</td>\n",
       "      <td>0.000000</td>\n",
       "      <td>3.268935</td>\n",
       "      <td>3.268935</td>\n",
       "    </tr>\n",
       "    <tr>\n",
       "      <th>1731</th>\n",
       "      <td>6.165838</td>\n",
       "      <td>10.161921</td>\n",
       "      <td>8.275376</td>\n",
       "      <td>7.736307</td>\n",
       "      <td>0.693147</td>\n",
       "      <td>4.966159</td>\n",
       "      <td>3.869533</td>\n",
       "      <td>5.658804</td>\n",
       "    </tr>\n",
       "    <tr>\n",
       "      <th>4742</th>\n",
       "      <td>4.769978</td>\n",
       "      <td>9.205428</td>\n",
       "      <td>7.295056</td>\n",
       "      <td>6.637258</td>\n",
       "      <td>0.000000</td>\n",
       "      <td>0.000000</td>\n",
       "      <td>4.769978</td>\n",
       "      <td>4.769978</td>\n",
       "    </tr>\n",
       "    <tr>\n",
       "      <th>4521</th>\n",
       "      <td>5.050390</td>\n",
       "      <td>9.690356</td>\n",
       "      <td>7.796058</td>\n",
       "      <td>7.226209</td>\n",
       "      <td>0.000000</td>\n",
       "      <td>0.000000</td>\n",
       "      <td>5.050390</td>\n",
       "      <td>5.050390</td>\n",
       "    </tr>\n",
       "  </tbody>\n",
       "</table>\n",
       "</div>"
      ],
      "text/plain": [
       "      admit_to_disch_hours  note_length  word_count  advanced_spacy_lemmas_n  \\\n",
       "6252              4.747104     9.917292    8.033658                 7.463937   \n",
       "4684              3.268935     9.310909    7.419980                 6.870053   \n",
       "1731              6.165838    10.161921    8.275376                 7.736307   \n",
       "4742              4.769978     9.205428    7.295056                 6.637258   \n",
       "4521              5.050390     9.690356    7.796058                 7.226209   \n",
       "\n",
       "      icu_stay_count  total_icu_hours  time_to_first_icu_hours  \\\n",
       "6252        0.693147         3.704596                 0.980829   \n",
       "4684        0.000000         0.000000                 3.268935   \n",
       "1731        0.693147         4.966159                 3.869533   \n",
       "4742        0.000000         0.000000                 4.769978   \n",
       "4521        0.000000         0.000000                 5.050390   \n",
       "\n",
       "      last_icu_to_discharge_hours  \n",
       "6252                     4.303385  \n",
       "4684                     3.268935  \n",
       "1731                     5.658804  \n",
       "4742                     4.769978  \n",
       "4521                     5.050390  "
      ]
     },
     "execution_count": 44,
     "metadata": {},
     "output_type": "execute_result"
    }
   ],
   "source": [
    "X_test_tfidf[cols_to_scale].head()"
   ]
  },
  {
   "cell_type": "code",
   "execution_count": 45,
   "id": "972ac70c",
   "metadata": {},
   "outputs": [],
   "source": [
    "from pathlib import Path\n",
    "\n",
    "# ── 1. Locate / create the data folder ────────────────────────────────\n",
    "root_dir = Path.cwd().parent            # notebooks → mimic_readmit_clinbert\n",
    "data_dir = root_dir / \"data\"\n",
    "data_dir.mkdir(exist_ok=True)           # won’t overwrite if it exists\n",
    "\n",
    "# ── 2. Map *file-stem → object*  --------------------------------------\n",
    "files = {\n",
    "    \"X_train_tfidf\":      X_train_tfidf,\n",
    "    \"X_test_tfidf\":       X_test_tfidf,\n",
    "    \"y_train_tfidf\":      y_train_tfidf,\n",
    "    \"y_test_tfidf\":       y_test_tfidf,\n",
    "\n",
    "    \"X_train_clinbert\":      X_train_clinbert,\n",
    "    \"X_test_clinbert\":       X_test_clinbert,\n",
    "    \"y_train_clinbert\":      y_train_clinbert,\n",
    "    \"y_test_clinbert\":       y_test_clinbert,\n",
    "\n",
    "    \"X_train_tfidfbert\":     X_train_tfidfbert,\n",
    "    \"X_test_tfidfbert\":      X_test_tfidfbert,\n",
    "    \"y_train_tfidfbert\":     y_train_tfidfbert,\n",
    "    \"y_test_tfidfbert\":      y_test_tfidfbert,\n",
    "}\n",
    "\n",
    "# ── 3. Write every DataFrame/Series once  -----------------------------\n",
    "for stem, obj in files.items():\n",
    "    # treat target vectors (Series) the same as DataFrames\n",
    "    if stem.startswith(\"y_\"):\n",
    "        obj.to_csv(data_dir / f\"{stem}.csv\", index=False, header=True)\n",
    "    else:\n",
    "        obj.to_csv(data_dir / f\"{stem}.csv\", index=False)"
   ]
  },
  {
   "cell_type": "code",
   "execution_count": 46,
   "id": "784ed350-62a0-492f-aa69-50bf1d6d0dd7",
   "metadata": {
    "tags": []
   },
   "outputs": [],
   "source": [
    "# # Include versioning in the filename\n",
    "# # Create version tag based on date or manual versioning\n",
    "# version = \"v1.0\"\n",
    "# timestamp = datetime.datetime.now().strftime(\"%Y%m%d_%H%M\")\n",
    "\n",
    "# # Construct filename with version and timestamp\n",
    "# filename = f\"Saved/scaler_instances_{version}_{timestamp}.joblib\"\n",
    "\n",
    "# # Save metadata along with the object\n",
    "# metadata = {\n",
    "#     \"scaler\": scaler_instances,\n",
    "#     \"created_by\": \"Sheng Miao\",\n",
    "#     \"date_saved\": timestamp,\n",
    "#     \"version\": version,\n",
    "#     \"description\": \"StandardScaler fitted on structured and TF-IDF combined dataset for 30-day readmission model\"\n",
    "# }\n",
    "\n",
    "# joblib.dump(metadata, filename)"
   ]
  },
  {
   "cell_type": "markdown",
   "id": "315f203e-7faf-4b4b-9cde-18810f6e15d6",
   "metadata": {},
   "source": [
    "# 4. Modeling"
   ]
  },
  {
   "cell_type": "markdown",
   "id": "7794add7-72d9-40ae-a6d6-7e0d08b8c52c",
   "metadata": {},
   "source": [
    "load saved csv files"
   ]
  },
  {
   "cell_type": "code",
   "execution_count": null,
   "id": "d76580b2",
   "metadata": {},
   "outputs": [],
   "source": [
    "# # Load in bulk\n",
    "\n",
    "# import pandas as pd\n",
    "# from pathlib import Path\n",
    "\n",
    "# # ── 1. Point to the folder that holds the 12 files ─────────────────────\n",
    "# root_dir = Path.cwd().parent          # notebooks → mimic_readmit_clinbert\n",
    "# data_dir = root_dir / \"data\"\n",
    "\n",
    "# # ── 2. List the file stems I saved earlier ───────────────────────────\n",
    "# stems = [\n",
    "#     \"X_train_tfidf\",  \"X_test_tfidf\",  \"y_train_tfidf\",  \"y_test_tfidf\",\n",
    "#     \"X_train_clinbert\",  \"X_test_clinbert\",  \"y_train_clinbert\",  \"y_test_clinbert\",\n",
    "#     \"X_train_tfidfbert\", \"X_test_tfidfbert\", \"y_train_tfidfbert\", \"y_test_tfidfbert\",\n",
    "# ]\n",
    "\n",
    "# # ── 3. Bulk-load everything into a dict ────────────────────────────────\n",
    "# loaded = {\n",
    "#     stem: pd.read_csv(data_dir / f\"{stem}.csv\")\n",
    "#     for stem in stems\n",
    "# }\n",
    "\n",
    "# # ── 4. Convert the y_… DataFrames (single column) to 1-D Series ────────\n",
    "# for stem in stems:\n",
    "#     if stem.startswith(\"y_\"):\n",
    "#         loaded[stem] = loaded[stem].squeeze(\"columns\")\n",
    "\n",
    "# # ── 5. Optionally put them back into the notebook’s global namespace ──\n",
    "# globals().update(loaded)\n",
    "\n",
    "# # I can now use variables directly:\n",
    "# print(X_train_tfidf.shape, y_test_clinbert.head())\n"
   ]
  },
  {
   "cell_type": "markdown",
   "id": "3e7914e8-90de-4d9b-932d-8702129d75c8",
   "metadata": {
    "tags": []
   },
   "source": [
    "## 4.1 Logistic Regression + Optuna (with regulation)"
   ]
  },
  {
   "cell_type": "markdown",
   "id": "068060e9",
   "metadata": {},
   "source": [
    "### 4.1.1 TF-IDF + Structure Data"
   ]
  },
  {
   "cell_type": "markdown",
   "id": "200a31a5-c090-4ba5-b174-6087b0510076",
   "metadata": {},
   "source": [
    "Reasons: \n",
    "- Handles high-dimensional sparse data (like TF-IDF) very well.\n",
    "- Fast to train and easy to interpret (especially with L1 or L2 regularization).\n",
    "- A solid baseline model."
   ]
  },
  {
   "cell_type": "markdown",
   "id": "980dfe17",
   "metadata": {},
   "source": [
    "The positive rate of my new dataset is ~14% now — that’s still imbalanced, but no longer “rare-event” territory as before (<1%). The main changes versus the <1% setup are:\n",
    "\n",
    "- Don’t oversample by default (SMOTE can now hurt by inventing too many synthetic points). Keep it available only when really skewed.\n",
    "\n",
    "- Tune/score with ROC-AUC (more stable when the class isn’t ultra-rare); still log Average-Precision.\n",
    "\n",
    "- Don’t downsample negatives for tuning; use the full (or a stratified) set.\n",
    "\n",
    "- Pick the decision threshold from out-of-fold probabilities (optimize F1), then report Precision/Recall at that threshold (not at 0.50). Threshold selection: we now compute out-of-fold probabilities and pick the threshold that maximizes F1, then report Precision/Recall at that threshold.\n",
    "\n",
    "Here’s an updated code. It auto-adapts: if the positive rate falls below 5% again, it will switch back to SMOTE + AP."
   ]
  },
  {
   "cell_type": "markdown",
   "id": "c1bad834",
   "metadata": {},
   "source": [
    "**What “Pick threshold from out-of-fold probabilities” Means**\n",
    "\n",
    "- During cross-validation (CV), you get out-of-fold predicted probabilities (i.e., predictions for validation sets not used in training).\n",
    "\n",
    "- You can scan across thresholds (e.g., 0.01 to 0.99) and compute the F1 score at each.\n",
    "\n",
    "- The threshold that maximizes F1 on CV is selected.\n",
    "\n",
    "This ensures:\n",
    "\n",
    "- The threshold choice is based on held-out predictions, not the training folds → less overfitting.\n",
    "\n",
    "- Your final evaluation reports Precision and Recall at that chosen threshold, which better reflects how the model will behave in deployment."
   ]
  },
  {
   "cell_type": "markdown",
   "id": "d1a3389d",
   "metadata": {},
   "source": [
    "**Why I need to pick the decision threshold at model tuning stage?** You don’t have to pick a threshold during hyperparameter tuning itself. But once you’ve tuned the model and want to report metrics like Precision/Recall/F1, you should pick the threshold based on out-of-fold probabilities — not arbitrarily 0.50 — because that gives a fairer, optimized picture of your model’s classification ability."
   ]
  },
  {
   "cell_type": "code",
   "execution_count": 47,
   "id": "e0dcf90e",
   "metadata": {},
   "outputs": [
    {
     "name": "stdout",
     "output_type": "stream",
     "text": [
      "Series([], dtype: int64)\n"
     ]
    }
   ],
   "source": [
    "null = X_train_tfidf.isnull().sum()\n",
    "isnu = null[null>0]\n",
    "print(isnu)"
   ]
  },
  {
   "cell_type": "code",
   "execution_count": null,
   "id": "53fd68b2",
   "metadata": {},
   "outputs": [
    {
     "data": {
      "application/vnd.jupyter.widget-view+json": {
       "model_id": "da7948bea01f4cfcaa6aa1c87d07049e",
       "version_major": 2,
       "version_minor": 0
      },
      "text/plain": [
       "Penalties:   0%|          | 0/3 [00:00<?, ?it/s]"
      ]
     },
     "metadata": {},
     "output_type": "display_data"
    },
    {
     "data": {
      "application/vnd.jupyter.widget-view+json": {
       "model_id": "0febbd48434f42909aad67972085ea52",
       "version_major": 2,
       "version_minor": 0
      },
      "text/plain": [
       "  0%|          | 0/25 [00:00<?, ?it/s]"
      ]
     },
     "metadata": {},
     "output_type": "display_data"
    },
    {
     "data": {
      "application/vnd.jupyter.widget-view+json": {
       "model_id": "26f7c21ac6ed4978aedfe3a8db5949a6",
       "version_major": 2,
       "version_minor": 0
      },
      "text/plain": [
       "  0%|          | 0/25 [00:00<?, ?it/s]"
      ]
     },
     "metadata": {},
     "output_type": "display_data"
    },
    {
     "data": {
      "application/vnd.jupyter.widget-view+json": {
       "model_id": "79212b361c3c49b185815877f5ea2923",
       "version_major": 2,
       "version_minor": 0
      },
      "text/plain": [
       "  0%|          | 0/25 [00:00<?, ?it/s]"
      ]
     },
     "metadata": {},
     "output_type": "display_data"
    }
   ],
   "source": [
    "# ────────────────────────────── imports ───────────────────────────────\n",
    "import os, warnings, json, logging\n",
    "from logging.handlers import RotatingFileHandler\n",
    "from pathlib import Path\n",
    "\n",
    "import numpy as np\n",
    "import pandas as pd\n",
    "import optuna\n",
    "from tqdm.auto import tqdm\n",
    "\n",
    "from joblib import parallel_backend\n",
    "from imblearn.pipeline import Pipeline as ImbPipeline\n",
    "from imblearn.over_sampling import SMOTE\n",
    "\n",
    "from sklearn.linear_model import LogisticRegression\n",
    "from sklearn.model_selection import StratifiedKFold, cross_val_score, cross_val_predict\n",
    "from sklearn.metrics import (\n",
    "    roc_auc_score, average_precision_score, f1_score,\n",
    "    precision_score, recall_score, precision_recall_curve\n",
    ")\n",
    "\n",
    "import matplotlib.pyplot as plt\n",
    "\n",
    "# Optional: detect sparse matrices for SMOTE decision\n",
    "try:\n",
    "    import scipy.sparse as sp\n",
    "except Exception:\n",
    "    sp = None\n",
    "\n",
    "# ───────────────────────────── config ────────────────────────────────\n",
    "warnings.filterwarnings(\"ignore\")\n",
    "optuna.logging.set_verbosity(optuna.logging.WARNING)\n",
    "\n",
    "SEED       = 42\n",
    "N_SPLITS   = 5            # per request\n",
    "N_TRIALS   = 25           # per request\n",
    "N_JOBS_CV  = -1           # parallelize folds\n",
    "MAX_ROWS   = None         # e.g., 80_000 to cap tuning size if desired\n",
    "TOL        = 1e-3         # slightly relaxed for speed\n",
    "PENALTIES  = [\"l1\", \"l2\", \"elasticnet\"]  # trim to [\"l1\",\"l2\"] for more speed\n",
    "\n",
    "# ─────────────────────────── paths / logging ──────────────────────────\n",
    "root_dir  = Path.cwd().parent\n",
    "saved_dir = root_dir / \"saved\"\n",
    "saved_dir.mkdir(exist_ok=True)\n",
    "\n",
    "# Use a static filename so rotation actually works across runs\n",
    "log_file  = saved_dir / \"logreg_optuna_tfidf.log\"\n",
    "\n",
    "logger = logging.getLogger(\"logreg_optuna\")\n",
    "logger.setLevel(logging.INFO)\n",
    "logger.propagate = False\n",
    "# Rotate at ~2MB, keep 5 backups\n",
    "_rot = RotatingFileHandler(log_file, maxBytes=2_000_000, backupCount=5, encoding=\"utf-8\")\n",
    "_rot.setFormatter(logging.Formatter(\"%(asctime)s [%(levelname)s] %(message)s\"))\n",
    "# Ensure we don't accidentally add multiple handlers if re-running the cell\n",
    "if not logger.handlers:\n",
    "    logger.addHandler(_rot)\n",
    "\n",
    "log = logger.info  # convenience alias\n",
    "\n",
    "# ─────────────────────────── data setup ───────────────────────────────\n",
    "# Expect X_train_tfidf, y_train_tfidf already in memory\n",
    "pos_rate = float(pd.Series(y_train_tfidf).mean())\n",
    "primary_metric = \"roc_auc\" if pos_rate >= 0.05 else \"average_precision\"\n",
    "\n",
    "def build_tuning_subset(X, y, pos_rate, max_rows=None):\n",
    "    # For very imbalanced data, keep all positives but cap negatives\n",
    "    if pos_rate < 0.05:\n",
    "        y_ser = pd.Series(y)\n",
    "        pos_idx = y_ser[y_ser == 1].index\n",
    "        neg_pool = y_ser[y_ser == 0].index\n",
    "        n_neg = min(1_000, len(neg_pool))\n",
    "        neg_idx = y_ser.loc[neg_pool].sample(n=n_neg, random_state=SEED).index\n",
    "        idx = pos_idx.union(neg_idx)\n",
    "        if hasattr(X, \"loc\"):\n",
    "            return X.loc[idx], y_ser.loc[idx]\n",
    "        return X[idx], y_ser.loc[idx]\n",
    "    # Else optionally cap very large datasets\n",
    "    if (max_rows is not None) and (len(y) > max_rows):\n",
    "        y_ser = pd.Series(y)\n",
    "        frac = max_rows / len(y_ser)\n",
    "        keep = y_ser.groupby(y_ser).apply(lambda s: s.sample(frac=frac, random_state=SEED)).index.get_level_values(1)\n",
    "        if hasattr(X, \"loc\"):\n",
    "            return X.loc[keep], y_ser.loc[keep]\n",
    "        return X[keep], y_ser.loc[keep]\n",
    "    return X, pd.Series(y)\n",
    "\n",
    "X_tune, y_tune = build_tuning_subset(X_train_tfidf, y_train_tfidf, pos_rate, max_rows=MAX_ROWS)\n",
    "\n",
    "IS_SPARSE = sp is not None and (sp.issparse(X_tune) or (hasattr(X_tune, \"sparse\") and X_tune.sparse))\n",
    "USE_SMOTE = (pos_rate < 0.05) and (not IS_SPARSE)  # avoid SMOTE on sparse TF-IDF\n",
    "\n",
    "cv  = StratifiedKFold(n_splits=N_SPLITS, shuffle=True, random_state=SEED)\n",
    "results      = {}\n",
    "metric_table = []  # rows: penalty, ROC_AUC, AP, F1, Precision, Recall, Threshold, Best_Params\n",
    "\n",
    "# Log initial setup (to file only)\n",
    "log(f\"Positive rate: {pos_rate:.4%}\")\n",
    "log(f\"Primary scoring: {primary_metric} | Sparse: {IS_SPARSE} | SMOTE: {USE_SMOTE}\")\n",
    "log(f\"Splits={N_SPLITS}, Trials={N_TRIALS}, n_jobs={N_JOBS_CV}, tol={TOL}, penalties={PENALTIES}\")\n",
    "\n",
    "# ───────────────────────── optimisation (progress bars on) ────────────\n",
    "def objective(trial, penalty):\n",
    "    \"\"\"Optuna objective: maximize primary_metric.\"\"\"\n",
    "    C = trial.suggest_float(\"C\", 1e-5, 1e2, log=True)\n",
    "    class_weight = trial.suggest_categorical(\"class_weight\", [None, \"balanced\"])\n",
    "    params = dict(\n",
    "        penalty=penalty, C=C, solver=\"saga\", max_iter=3_000,\n",
    "        random_state=SEED, class_weight=class_weight, tol=TOL\n",
    "    )\n",
    "    if penalty == \"elasticnet\":\n",
    "        params[\"l1_ratio\"] = trial.suggest_float(\"l1_ratio\", 0.05, 0.95)\n",
    "\n",
    "    steps = []\n",
    "    if USE_SMOTE:\n",
    "        steps.append((\"smote\", SMOTE(random_state=SEED)))\n",
    "    steps.append((\"clf\", LogisticRegression(**params)))\n",
    "    pipe = ImbPipeline(steps)\n",
    "\n",
    "    with parallel_backend(\"loky\", inner_max_num_threads=1):\n",
    "        score = cross_val_score(\n",
    "            pipe, X_tune, y_tune, cv=cv, scoring=primary_metric, n_jobs=N_JOBS_CV\n",
    "        )\n",
    "    return score.mean()\n",
    "\n",
    "for pen in tqdm(PENALTIES, desc=\"Penalties\", position=0):\n",
    "    log(f\"Optimising penalty={pen}\")\n",
    "    study = optuna.create_study(direction=\"maximize\", sampler=optuna.samplers.TPESampler(seed=SEED))\n",
    "    # Optuna's own progress bar prints to console; other details go to log file\n",
    "    study.optimize(lambda tr: objective(tr, pen), n_trials=N_TRIALS, show_progress_bar=True)\n",
    "    best_primary = study.best_value\n",
    "    best_params  = study.best_params\n",
    "    log(f\" best {primary_metric}: {best_primary:.6f}\")\n",
    "    log(f\" best params: {best_params}\")\n",
    "\n",
    "    # ── OOF probabilities & F1-optimal threshold ──\n",
    "    best_params_full = dict(\n",
    "        penalty=pen, solver=\"saga\", max_iter=3_000, random_state=SEED, tol=TOL,\n",
    "        **{k: v for k, v in best_params.items() if k in (\"C\", \"l1_ratio\", \"class_weight\")}\n",
    "    )\n",
    "    steps = []\n",
    "    if USE_SMOTE:\n",
    "        steps.append((\"smote\", SMOTE(random_state=SEED)))\n",
    "    steps.append((\"clf\", LogisticRegression(**best_params_full)))\n",
    "    pipe = ImbPipeline(steps)\n",
    "\n",
    "    with parallel_backend(\"loky\", inner_max_num_threads=1):\n",
    "        probas = cross_val_predict(\n",
    "            pipe, X_tune, y_tune, cv=cv, method=\"predict_proba\", n_jobs=N_JOBS_CV\n",
    "        )[:, 1]\n",
    "\n",
    "    prec, rec, thr = precision_recall_curve(y_tune, probas)\n",
    "    f1_vals = (2 * prec[1:] * rec[1:]) / np.clip(prec[1:] + rec[1:], 1e-12, None)\n",
    "    best_thr = 0.5 if (len(f1_vals) == 0 or np.all(np.isnan(f1_vals))) else float(thr[np.nanargmax(f1_vals)])\n",
    "\n",
    "    y_pred = (probas >= best_thr).astype(int)\n",
    "    roc = roc_auc_score(y_tune, probas)\n",
    "    ap  = average_precision_score(y_tune, probas)\n",
    "    f1  = f1_score(y_tune, y_pred, zero_division=0)\n",
    "    p_  = precision_score(y_tune, y_pred, zero_division=0)\n",
    "    r_  = recall_score(y_tune, y_pred, zero_division=0)\n",
    "\n",
    "    results[pen] = best_primary\n",
    "    metric_table.append(dict(\n",
    "        Penalty=pen, ROC_AUC=roc, Avg_Precision=ap,\n",
    "        F1=f1, Precision=p_, Recall=r_, Threshold=best_thr,\n",
    "        Best_Params=best_params_full\n",
    "    ))\n",
    "    log(f\"  OOF ROC-AUC={roc:.6f} | AP={ap:.6f} | F1={f1:.6f} @ thr={best_thr:.3f} (P={p_:.3f}, R={r_:.3f})\")\n",
    "\n",
    "# ───────────────── save outputs (no console prints) ───────────────────\n",
    "summary_df = pd.DataFrame(metric_table).set_index(\"Penalty\")\n",
    "summary_csv = saved_dir / \"logreg_penalties_summary.csv\"\n",
    "summary_df.to_csv(summary_csv)\n",
    "log(f\"Saved summary: {summary_csv}\")\n",
    "\n",
    "# Save params as JSON for easy reuse\n",
    "params_json = saved_dir / \"logreg_best_params.json\"\n",
    "with open(params_json, \"w\", encoding=\"utf-8\") as f:\n",
    "    json.dump({row[\"Penalty\"]: row[\"Best_Params\"] for row in metric_table}, f, indent=2)\n",
    "log(f\"Saved best params JSON: {params_json}\")\n",
    "\n",
    "# Save grouped bar chart to file (no plt.show())\n",
    "fig, ax = plt.subplots(figsize=(9, 4))\n",
    "x     = np.arange(len(summary_df))\n",
    "width = 0.25\n",
    "ax.bar(x - width, summary_df[\"ROC_AUC\"],       width, label=\"ROC-AUC\")\n",
    "ax.bar(x,         summary_df[\"F1\"],            width, label=\"F1 (best thr)\")\n",
    "ax.bar(x + width, summary_df[\"Avg_Precision\"], width, label=\"Avg Precision\")\n",
    "ax.set_xticks(x)\n",
    "ax.set_xticklabels(summary_df.index)\n",
    "ax.set_ylim(0, 1)\n",
    "ax.set_ylabel(\"Score\")\n",
    "ax.set_title(\"Penalties – ROC-AUC, F1 (best thr), Avg Precision\")\n",
    "ax.legend()\n",
    "plt.tight_layout()\n",
    "plot_path = saved_dir / \"logreg_penalties_scores.png\"\n",
    "plt.savefig(plot_path, dpi=160)\n",
    "plt.close(fig)\n",
    "log(f\"Saved plot: {plot_path}\")\n",
    "\n",
    "# 142m 53.0s\n"
   ]
  },
  {
   "cell_type": "markdown",
   "id": "1e0dccb5",
   "metadata": {},
   "source": [
    "### 4.1.2 ClinicBERT + Structure Data"
   ]
  },
  {
   "cell_type": "markdown",
   "id": "7f771a97",
   "metadata": {},
   "source": [
    "**What I adjusted specifically for ClinBERT + numeric:**\n",
    "\n",
    "- Scaling added: StandardScaler(with_mean=True for dense) improves LR stability/fit on 768-d embeddings. (Automatically uses with_mean=False if your matrix is sparse—e.g., TF-IDF.)\n",
    "\n",
    "- SMOTE gated off for high-dim embeddings: USE_SMOTE only true if imbalanced and dense and n_features <= 200. In 768-d space, SMOTE is slow and usually unhelpful—class_weight=\"balanced\" generally wins.\n",
    "\n",
    "- Higher max_iter (5,000): gives SAGA more room to converge on dense, high-dim data.\n",
    "\n",
    "- Auto-dataset detection: picks ClinBERT if available; filenames and logs include a dataset tag so runs don’t collide."
   ]
  },
  {
   "cell_type": "code",
   "execution_count": null,
   "id": "64eb091c",
   "metadata": {},
   "outputs": [
    {
     "data": {
      "application/vnd.jupyter.widget-view+json": {
       "model_id": "2e7747ecb3494097bd75aa015602ad5c",
       "version_major": 2,
       "version_minor": 0
      },
      "text/plain": [
       "Penalties (clinbert):   0%|          | 0/3 [00:00<?, ?it/s]"
      ]
     },
     "metadata": {},
     "output_type": "display_data"
    },
    {
     "data": {
      "application/vnd.jupyter.widget-view+json": {
       "model_id": "57e962ab97d946c4ae614c231307daf0",
       "version_major": 2,
       "version_minor": 0
      },
      "text/plain": [
       "  0%|          | 0/25 [00:00<?, ?it/s]"
      ]
     },
     "metadata": {},
     "output_type": "display_data"
    },
    {
     "data": {
      "application/vnd.jupyter.widget-view+json": {
       "model_id": "c7277f90f84d4031ae60c31f345d05a5",
       "version_major": 2,
       "version_minor": 0
      },
      "text/plain": [
       "  0%|          | 0/25 [00:00<?, ?it/s]"
      ]
     },
     "metadata": {},
     "output_type": "display_data"
    },
    {
     "data": {
      "application/vnd.jupyter.widget-view+json": {
       "model_id": "7e9d6f8bf02544508624ab317613e413",
       "version_major": 2,
       "version_minor": 0
      },
      "text/plain": [
       "  0%|          | 0/25 [00:00<?, ?it/s]"
      ]
     },
     "metadata": {},
     "output_type": "display_data"
    }
   ],
   "source": [
    "# ────────────────────────────── imports ───────────────────────────────\n",
    "import os, warnings, json, logging\n",
    "from logging.handlers import RotatingFileHandler\n",
    "from pathlib import Path\n",
    "\n",
    "import numpy as np\n",
    "import pandas as pd\n",
    "import optuna\n",
    "from tqdm.auto import tqdm\n",
    "\n",
    "from joblib import parallel_backend\n",
    "from imblearn.pipeline import Pipeline as ImbPipeline\n",
    "from imblearn.over_sampling import SMOTE\n",
    "\n",
    "from sklearn.preprocessing import StandardScaler\n",
    "from sklearn.linear_model import LogisticRegression\n",
    "from sklearn.model_selection import StratifiedKFold, cross_val_score, cross_val_predict\n",
    "from sklearn.metrics import (\n",
    "    roc_auc_score, average_precision_score, f1_score,\n",
    "    precision_score, recall_score, precision_recall_curve\n",
    ")\n",
    "\n",
    "import matplotlib.pyplot as plt\n",
    "\n",
    "# Optional: detect sparse matrices for TF-IDF decisioning\n",
    "try:\n",
    "    import scipy.sparse as sp\n",
    "except Exception:\n",
    "    sp = None\n",
    "\n",
    "# ───────────────────────────── config ────────────────────────────────\n",
    "warnings.filterwarnings(\"ignore\")\n",
    "optuna.logging.set_verbosity(optuna.logging.WARNING)\n",
    "\n",
    "SEED       = 42\n",
    "N_SPLITS   = 5           # keep 5-fold CV\n",
    "N_TRIALS   = 25          # 25 Optuna trials per penalty\n",
    "N_JOBS_CV  = -1          # parallelize folds\n",
    "MAX_ROWS   = None        # e.g., 80_000 to cap tuning size if desired\n",
    "TOL        = 1e-3        # slightly relaxed for speed\n",
    "PENALTIES  = [\"l1\", \"l2\", \"elasticnet\"]  # trim to [\"l1\",\"l2\"] for more speed\n",
    "\n",
    "# ───────────── Explicit dataset: ClinBERT  ─────────────\n",
    "\n",
    "X_train = X_train_clinbert\n",
    "y_train = y_train_clinbert \n",
    "DATASET_TAG = \"clinbert\"\n",
    "\n",
    "# ─────────────────────────── paths / logging ──────────────────────────\n",
    "root_dir  = Path.cwd().parent\n",
    "saved_dir = root_dir / \"saved\"\n",
    "saved_dir.mkdir(exist_ok=True)\n",
    "\n",
    "# Rotate logs; distinct file per dataset tag\n",
    "log_file  = saved_dir / f\"logreg_optuna_{DATASET_TAG}.log\"\n",
    "\n",
    "logger = logging.getLogger(f\"logreg_optuna_{DATASET_TAG}\")\n",
    "logger.setLevel(logging.INFO)\n",
    "logger.propagate = False\n",
    "_rot = RotatingFileHandler(log_file, maxBytes=2_000_000, backupCount=5, encoding=\"utf-8\")\n",
    "_rot.setFormatter(logging.Formatter(\"%(asctime)s [%(levelname)s] %(message)s\"))\n",
    "if not logger.handlers:\n",
    "    logger.addHandler(_rot)\n",
    "log = logger.info\n",
    "\n",
    "# ─────────────────────────── data setup ───────────────────────────────\n",
    "pos_rate = float(pd.Series(y_train).mean())\n",
    "primary_metric = \"roc_auc\" if pos_rate >= 0.05 else \"average_precision\"\n",
    "\n",
    "def build_tuning_subset(X, y, pos_rate, max_rows=None):\n",
    "    y_ser = pd.Series(y)\n",
    "    # Very imbalanced: keep all positives, cap negatives\n",
    "    if pos_rate < 0.05:\n",
    "        pos_idx = y_ser[y_ser == 1].index\n",
    "        neg_pool = y_ser[y_ser == 0].index\n",
    "        n_neg = min(1_000, len(neg_pool))\n",
    "        neg_idx = y_ser.loc[neg_pool].sample(n=n_neg, random_state=SEED).index\n",
    "        idx = pos_idx.union(neg_idx)\n",
    "        if hasattr(X, \"loc\"):\n",
    "            return X.loc[idx], y_ser.loc[idx]\n",
    "        return X[idx], y_ser.loc[idx]\n",
    "    # Else optionally cap very large datasets\n",
    "    if (max_rows is not None) and (len(y_ser) > max_rows):\n",
    "        frac = max_rows / len(y_ser)\n",
    "        keep = y_ser.groupby(y_ser).apply(lambda s: s.sample(frac=frac, random_state=SEED)).index.get_level_values(1)\n",
    "        if hasattr(X, \"loc\"):\n",
    "            return X.loc[keep], y_ser.loc[keep]\n",
    "        return X[keep], y_ser.loc[keep]\n",
    "    return X, y_ser\n",
    "\n",
    "X_tune, y_tune = build_tuning_subset(X_train, y_train, pos_rate, max_rows=MAX_ROWS)\n",
    "\n",
    "# Sparse vs dense + dimensionality (used to decide SMOTE and scaling)\n",
    "IS_SPARSE = sp is not None and (sp.issparse(X_tune) or (hasattr(X_tune, \"sparse\") and X_tune.sparse))\n",
    "N_FEATS   = (X_tune.shape[1] if hasattr(X_tune, \"shape\") and len(getattr(X_tune, \"shape\", ())) >= 2 else None)\n",
    "\n",
    "# ClinBERT is dense (768-d) → scale; SMOTE in 768-d is slow/low-yield, so gate it off.\n",
    "# TF-IDF is usually sparse → scale with_mean=False; avoid SMOTE for sparse matrices.\n",
    "USE_SMOTE = (pos_rate < 0.05) and (not IS_SPARSE) and (N_FEATS is not None and N_FEATS <= 200)\n",
    "# ^ Heuristic: only allow SMOTE if imbalanced + dense + relatively low-dim (<=200)\n",
    "\n",
    "cv  = StratifiedKFold(n_splits=N_SPLITS, shuffle=True, random_state=SEED)\n",
    "results      = {}\n",
    "metric_table = []  # rows: penalty, ROC_AUC, AP, F1, Precision, Recall, Threshold, Best_Params\n",
    "\n",
    "log(f\"[{DATASET_TAG}] Positive rate: {pos_rate:.4%}\")\n",
    "log(f\"[{DATASET_TAG}] Primary scoring: {primary_metric} | Sparse={IS_SPARSE} | n_features={N_FEATS} | SMOTE={USE_SMOTE}\")\n",
    "log(f\"[{DATASET_TAG}] Splits={N_SPLITS}, Trials={N_TRIALS}, n_jobs={N_JOBS_CV}, tol={TOL}, penalties={PENALTIES}\")\n",
    "\n",
    "# ───────────────────────── optimisation (progress bars on) ────────────\n",
    "def build_pipe(params):\n",
    "    steps = []\n",
    "    # Scale always: with_mean=False for sparse; True for dense (ClinBERT)\n",
    "    steps.append((\"scaler\", StandardScaler(with_mean=not IS_SPARSE)))\n",
    "    if USE_SMOTE:\n",
    "        steps.append((\"smote\", SMOTE(random_state=SEED)))\n",
    "    steps.append((\"clf\", LogisticRegression(**params)))\n",
    "    return ImbPipeline(steps)\n",
    "\n",
    "def objective(trial, penalty):\n",
    "    \"\"\"Optuna objective: maximize primary_metric.\"\"\"\n",
    "    C = trial.suggest_float(\"C\", 1e-5, 1e2, log=True)\n",
    "    class_weight = trial.suggest_categorical(\"class_weight\", [None, \"balanced\"])\n",
    "    params = dict(\n",
    "        penalty=penalty, C=C, solver=\"saga\", max_iter=5_000,  # ↑ max_iter for 768-d ClinBERT\n",
    "        random_state=SEED, class_weight=class_weight, tol=TOL, n_jobs=1\n",
    "    )\n",
    "    if penalty == \"elasticnet\":\n",
    "        params[\"l1_ratio\"] = trial.suggest_float(\"l1_ratio\", 0.05, 0.95)\n",
    "\n",
    "    pipe = build_pipe(params)\n",
    "    # Parallelize across folds; keep inner threads at 1 to avoid oversubscription\n",
    "    with parallel_backend(\"loky\", inner_max_num_threads=1):\n",
    "        score = cross_val_score(\n",
    "            pipe, X_tune, y_tune, cv=cv, scoring=primary_metric, n_jobs=N_JOBS_CV\n",
    "        )\n",
    "    return score.mean()\n",
    "\n",
    "for pen in tqdm(PENALTIES, desc=f\"Penalties ({DATASET_TAG})\", position=0):\n",
    "    log(f\"[{DATASET_TAG}] Optimising penalty={pen}\")\n",
    "    study = optuna.create_study(direction=\"maximize\", sampler=optuna.samplers.TPESampler(seed=SEED))\n",
    "    study.optimize(lambda tr: objective(tr, pen), n_trials=N_TRIALS, show_progress_bar=True)\n",
    "    best_primary = study.best_value\n",
    "    best_params  = study.best_params\n",
    "    log(f\"[{DATASET_TAG}] best {primary_metric}: {best_primary:.6f}\")\n",
    "    log(f\"[{DATASET_TAG}] best params: {best_params}\")\n",
    "\n",
    "    # ── OOF probabilities & F1-optimal threshold ──\n",
    "    best_params_full = dict(\n",
    "        penalty=pen, solver=\"saga\", max_iter=5_000, random_state=SEED, tol=TOL, n_jobs=1,\n",
    "        **{k: v for k, v in best_params.items() if k in (\"C\", \"l1_ratio\", \"class_weight\")}\n",
    "    )\n",
    "    pipe = build_pipe(best_params_full)\n",
    "\n",
    "    with parallel_backend(\"loky\", inner_max_num_threads=1):\n",
    "        probas = cross_val_predict(\n",
    "            pipe, X_tune, y_tune, cv=cv, method=\"predict_proba\", n_jobs=N_JOBS_CV\n",
    "        )[:, 1]\n",
    "\n",
    "    prec, rec, thr = precision_recall_curve(y_tune, probas)\n",
    "    f1_vals = (2 * prec[1:] * rec[1:]) / np.clip(prec[1:] + rec[1:], 1e-12, None)\n",
    "    best_thr = 0.5 if (len(f1_vals) == 0 or np.all(np.isnan(f1_vals))) else float(thr[np.nanargmax(f1_vals)])\n",
    "\n",
    "    y_pred = (probas >= best_thr).astype(int)\n",
    "    roc = roc_auc_score(y_tune, probas)\n",
    "    ap  = average_precision_score(y_tune, probas)\n",
    "    f1  = f1_score(y_tune, y_pred, zero_division=0)\n",
    "    p_  = precision_score(y_tune, y_pred, zero_division=0)\n",
    "    r_  = recall_score(y_tune, y_pred, zero_division=0)\n",
    "\n",
    "    results[pen] = best_primary\n",
    "    metric_table.append(dict(\n",
    "        Penalty=pen, ROC_AUC=roc, Avg_Precision=ap,\n",
    "        F1=f1, Precision=p_, Recall=r_, Threshold=best_thr,\n",
    "        Best_Params=best_params_full\n",
    "    ))\n",
    "    log(f\"[{DATASET_TAG}]  OOF ROC-AUC={roc:.6f} | AP={ap:.6f} | F1={f1:.6f} @ thr={best_thr:.3f} (P={p_:.3f}, R={r_:.3f})\")\n",
    "\n",
    "# ───────────────── save outputs (no console prints) ───────────────────\n",
    "summary_df = pd.DataFrame(metric_table).set_index(\"Penalty\")\n",
    "summary_csv = saved_dir / f\"logreg_penalties_summary_{DATASET_TAG}.csv\"\n",
    "summary_df.to_csv(summary_csv)\n",
    "log(f\"[{DATASET_TAG}] Saved summary: {summary_csv}\")\n",
    "\n",
    "# Save params as JSON for easy reuse\n",
    "params_json = saved_dir / f\"logreg_best_params_{DATASET_TAG}.json\"\n",
    "with open(params_json, \"w\", encoding=\"utf-8\") as f:\n",
    "    json.dump({row[\"Penalty\"]: row[\"Best_Params\"] for row in metric_table}, f, indent=2)\n",
    "log(f\"[{DATASET_TAG}] Saved best params JSON: {params_json}\")\n",
    "\n",
    "# Save grouped bar chart to file (no plt.show())\n",
    "fig, ax = plt.subplots(figsize=(9, 4))\n",
    "x     = np.arange(len(summary_df))\n",
    "width = 0.25\n",
    "ax.bar(x - width, summary_df[\"ROC_AUC\"],       width, label=\"ROC-AUC\")\n",
    "ax.bar(x,         summary_df[\"F1\"],            width, label=\"F1 (best thr)\")\n",
    "ax.bar(x + width, summary_df[\"Avg_Precision\"], width, label=\"Avg Precision\")\n",
    "ax.set_xticks(x)\n",
    "ax.set_xticklabels(summary_df.index)\n",
    "ax.set_ylim(0, 1)\n",
    "ax.set_ylabel(\"Score\")\n",
    "ax.set_title(f\"Penalties – ROC-AUC, F1 (best thr), Avg Precision [{DATASET_TAG}]\")\n",
    "ax.legend()\n",
    "plt.tight_layout()\n",
    "plot_path = saved_dir / f\"logreg_penalties_scores_{DATASET_TAG}.png\"\n",
    "plt.savefig(plot_path, dpi=160)\n",
    "plt.close(fig)\n",
    "log(f\"[{DATASET_TAG}] Saved plot: {plot_path}\")\n",
    "\n",
    "# 35m 21.5s\n"
   ]
  },
  {
   "cell_type": "markdown",
   "id": "b3e553db",
   "metadata": {},
   "source": [
    "### 4.1.3 TF-DF + ClinicBERT + Structure Data"
   ]
  },
  {
   "cell_type": "markdown",
   "id": "f6c68d25",
   "metadata": {},
   "source": [
    "Tuned for tfidfbert dataset (few numeric + 768 ClinicalBERT embeddings + 2000 TF-IDF).\n",
    "Key adjustments vs. TF-IDF-only setup:\n",
    "\n",
    "- Uses penalties = [\"l2\",\"elasticnet\"] (better for high-dim dense+ sparse mix).\n",
    "- C search tightened to [1e-4, 10] (stronger regularization typical for embeddings).\n",
    "- SMOTE disabled by default (very high-dim + embeddings → SMOTE is slow and noisy).\n",
    "- File names switched to tfidfbert to avoid confusion in saved artifacts.\n",
    "- Keeps: N_SPLITS=5, N_TRIALS=25, progress bars, rotating log file, no console spam (besides the bars).\n",
    "- Replace X_train_tfidfbert / y_train_tfidfbert with your actual variables if different.\n",
    "- StandardScaler applied to the ClinicalBERT embedding columns, while passing TF-IDF columns (prefixed tfidf__) through unchanged."
   ]
  },
  {
   "cell_type": "code",
   "execution_count": 54,
   "id": "5ffcc632",
   "metadata": {},
   "outputs": [
    {
     "data": {
      "application/vnd.jupyter.widget-view+json": {
       "model_id": "54dee5163bdf43fa88b80a41c88a78d6",
       "version_major": 2,
       "version_minor": 0
      },
      "text/plain": [
       "Penalties (tfidfbert):   0%|          | 0/2 [00:00<?, ?it/s]"
      ]
     },
     "metadata": {},
     "output_type": "display_data"
    },
    {
     "data": {
      "application/vnd.jupyter.widget-view+json": {
       "model_id": "b55fc2aba56e467caa3c053f40e233cd",
       "version_major": 2,
       "version_minor": 0
      },
      "text/plain": [
       "  0%|          | 0/25 [00:00<?, ?it/s]"
      ]
     },
     "metadata": {},
     "output_type": "display_data"
    },
    {
     "data": {
      "application/vnd.jupyter.widget-view+json": {
       "model_id": "33821048330843c8b039774154213d33",
       "version_major": 2,
       "version_minor": 0
      },
      "text/plain": [
       "  0%|          | 0/25 [00:00<?, ?it/s]"
      ]
     },
     "metadata": {},
     "output_type": "display_data"
    }
   ],
   "source": [
    "# ────────────────────────────── imports ───────────────────────────────\n",
    "import os, warnings, json, logging\n",
    "from logging.handlers import RotatingFileHandler\n",
    "from pathlib import Path\n",
    "\n",
    "import numpy as np\n",
    "import pandas as pd\n",
    "import optuna\n",
    "from tqdm.auto import tqdm\n",
    "\n",
    "from joblib import parallel_backend\n",
    "from imblearn.pipeline import Pipeline as ImbPipeline\n",
    "# from imblearn.over_sampling import SMOTE  # intentionally unused for tfidf+embeddings\n",
    "\n",
    "from sklearn.linear_model import LogisticRegression\n",
    "from sklearn.model_selection import StratifiedKFold, cross_val_score, cross_val_predict\n",
    "from sklearn.metrics import (\n",
    "    roc_auc_score, average_precision_score, f1_score,\n",
    "    precision_score, recall_score, precision_recall_curve\n",
    ")\n",
    "from sklearn.compose import ColumnTransformer\n",
    "from sklearn.preprocessing import StandardScaler\n",
    "\n",
    "import matplotlib.pyplot as plt\n",
    "\n",
    "# Optional: detect sparse matrices (TF-IDF may be sparse)\n",
    "try:\n",
    "    import scipy.sparse as sp\n",
    "except Exception:\n",
    "    sp = None\n",
    "\n",
    "# ───────────────────────────── config ────────────────────────────────\n",
    "warnings.filterwarnings(\"ignore\")\n",
    "optuna.logging.set_verbosity(optuna.logging.WARNING)\n",
    "\n",
    "SEED       = 42\n",
    "N_SPLITS   = 5            # per request\n",
    "N_TRIALS   = 25           # per request\n",
    "N_JOBS_CV  = -1           # parallelize folds\n",
    "MAX_ROWS   = None         # e.g., 120_000 to cap tuning size if desired\n",
    "TOL        = 1e-3         # slightly relaxed for speed\n",
    "# For embeddings + TF-IDF, prefer L2 / ElasticNet; L1 can be slower/unstable here\n",
    "PENALTIES  = [\"l2\", \"elasticnet\"]\n",
    "\n",
    "# ─────────────────────────── paths / logging ──────────────────────────\n",
    "root_dir  = Path.cwd().parent\n",
    "saved_dir = root_dir / \"saved\"\n",
    "saved_dir.mkdir(exist_ok=True)\n",
    "\n",
    "# Rotating log file (no console growth)\n",
    "log_file  = saved_dir / \"logreg_optuna_tfidfbert.log\"\n",
    "logger = logging.getLogger(\"logreg_optuna_tfidfbert\")\n",
    "logger.setLevel(logging.INFO)\n",
    "logger.propagate = False\n",
    "_rot = RotatingFileHandler(log_file, maxBytes=2_000_000, backupCount=5, encoding=\"utf-8\")\n",
    "_rot.setFormatter(logging.Formatter(\"%(asctime)s [%(levelname)s] %(message)s\"))\n",
    "if not logger.handlers:\n",
    "    logger.addHandler(_rot)\n",
    "log = logger.info\n",
    "\n",
    "# ─────────────────────────── data setup ───────────────────────────────\n",
    "# EXPECT these objects to exist in memory:\n",
    "#   X_train_tfidfbert : DataFrame / array-like / scipy.sparse\n",
    "#   y_train_tfidfbert : array-like / Series\n",
    "#   clinbert_only     : DataFrame with ONLY the 768 ClinicalBERT embedding columns\n",
    "X_train = X_train_tfidfbert\n",
    "y_train = y_train_tfidfbert\n",
    "\n",
    "pos_rate = float(pd.Series(y_train).mean())\n",
    "primary_metric = \"roc_auc\" if pos_rate >= 0.05 else \"average_precision\"\n",
    "\n",
    "def build_tuning_subset(X, y, pos_rate, max_rows=None):\n",
    "    y_ser = pd.Series(y)\n",
    "    # For very imbalanced data, keep all positives but cap negatives (no SMOTE here)\n",
    "    if pos_rate < 0.05:\n",
    "        pos_idx = y_ser[y_ser == 1].index\n",
    "        neg_pool = y_ser[y_ser == 0].index\n",
    "        n_neg = min(2_000, len(neg_pool))  # allow more negatives than TF-IDF-only case\n",
    "        neg_idx = y_ser.loc[neg_pool].sample(n=n_neg, random_state=SEED).index\n",
    "        idx = pos_idx.union(neg_idx)\n",
    "        if hasattr(X, \"loc\"):\n",
    "            return X.loc[idx], y_ser.loc[idx]\n",
    "        return X[idx], y_ser.loc[idx]\n",
    "    # Else optionally cap very large datasets\n",
    "    if (max_rows is not None) and (len(y_ser) > max_rows):\n",
    "        frac = max_rows / len(y_ser)\n",
    "        keep = y_ser.groupby(y_ser).apply(lambda s: s.sample(frac=frac, random_state=SEED)).index.get_level_values(1)\n",
    "        if hasattr(X, \"loc\"):\n",
    "            return X.loc[keep], y_ser.loc[keep]\n",
    "        return X[keep], y_ser.loc[keep]\n",
    "    return X, y_ser\n",
    "\n",
    "X_tune, y_tune = build_tuning_subset(X_train, y_train, pos_rate, max_rows=MAX_ROWS)\n",
    "\n",
    "# ─────────────────────────── column groups ────────────────────────────\n",
    "# We standardize ONLY the ClinicalBERT embedding columns (dense).\n",
    "# TF-IDF columns (prefix \"tfidf__\") are passed through unchanged.\n",
    "preprocessor = None\n",
    "if hasattr(X_tune, \"columns\"):\n",
    "    # Ensure we only scale columns present in X_tune\n",
    "    clinbert_cols_all = list(getattr(clinbert_only, \"columns\", []))\n",
    "    clinbert_cols = [c for c in clinbert_cols_all if c in X_tune.columns]\n",
    "    tfidf_cols    = [c for c in X_tune.columns if str(c).startswith(\"tfidf__\")]\n",
    "    other_cols    = [c for c in X_tune.columns if c not in clinbert_cols + tfidf_cols]\n",
    "\n",
    "    preprocessor = ColumnTransformer(\n",
    "        transformers=[\n",
    "            (\"clinbert_scale\", StandardScaler(with_mean=True), clinbert_cols),  # dense scaler\n",
    "            (\"tfidf_pass\", \"passthrough\", tfidf_cols),                          # sparse passthrough\n",
    "            (\"other_pass\", \"passthrough\", other_cols),                          # e.g., your few numeric feats\n",
    "        ],\n",
    "        remainder=\"drop\",\n",
    "        n_jobs=None,  # let sklearn manage internally\n",
    "        verbose_feature_names_out=False\n",
    "    )\n",
    "\n",
    "# Detect sparsity (combined matrix may become dense due to scaling block)\n",
    "IS_SPARSE = sp is not None and (sp.issparse(X_tune) or (hasattr(X_tune, \"sparse\") and X_tune.sparse))\n",
    "USE_SMOTE = False  # keep off for high-dim mixed set\n",
    "\n",
    "cv  = StratifiedKFold(n_splits=N_SPLITS, shuffle=True, random_state=SEED)\n",
    "results      = {}\n",
    "metric_table = []  # rows: penalty, ROC_AUC, AP, F1, Precision, Recall, Threshold, Best_Params\n",
    "\n",
    "# Log initial setup\n",
    "log(f\"[tfidfbert] Positive rate: {pos_rate:.4%}\")\n",
    "log(f\"[tfidfbert] Primary scoring: {primary_metric} | Input sparse: {IS_SPARSE} | SMOTE: {USE_SMOTE}\")\n",
    "if preprocessor is not None:\n",
    "    log(f\"[tfidfbert] Columns → clinbert_scale={len(clinbert_cols)}, tfidf_pass={len(tfidf_cols)}, other_pass={len(other_cols)}\")\n",
    "else:\n",
    "    log(\"[tfidfbert] WARNING: X_tune has no .columns; proceeding WITHOUT column-wise scaling.\")\n",
    "log(f\"[tfidfbert] Splits={N_SPLITS}, Trials={N_TRIALS}, n_jobs={N_JOBS_CV}, tol={TOL}, penalties={PENALTIES}\")\n",
    "\n",
    "# ───────────────────────── optimisation (progress bars on) ────────────\n",
    "def make_pipeline(params):\n",
    "    steps = []\n",
    "    if preprocessor is not None:\n",
    "        steps.append((\"prep\", preprocessor))\n",
    "    steps.append((\"clf\", LogisticRegression(**params)))\n",
    "    return ImbPipeline(steps)\n",
    "\n",
    "def objective(trial, penalty):\n",
    "    \"\"\"Optuna objective: maximize primary_metric for tfidf+embeddings.\"\"\"\n",
    "    # Narrower C range typical for embeddings; prevents overfit & speeds search\n",
    "    C = trial.suggest_float(\"C\", 1e-4, 10.0, log=True)\n",
    "    class_weight = trial.suggest_categorical(\"class_weight\", [None, \"balanced\"])\n",
    "    params = dict(\n",
    "        penalty=penalty, C=C, solver=\"saga\", max_iter=3_000,\n",
    "        random_state=SEED, class_weight=class_weight, tol=TOL\n",
    "    )\n",
    "    if penalty == \"elasticnet\":\n",
    "        params[\"l1_ratio\"] = trial.suggest_float(\"l1_ratio\", 0.05, 0.95)\n",
    "\n",
    "    pipe = make_pipeline(params)\n",
    "\n",
    "    with parallel_backend(\"loky\", inner_max_num_threads=1):\n",
    "        score = cross_val_score(\n",
    "            pipe, X_tune, y_tune, cv=cv, scoring=primary_metric, n_jobs=N_JOBS_CV\n",
    "        )\n",
    "    return score.mean()\n",
    "\n",
    "for pen in tqdm(PENALTIES, desc=\"Penalties (tfidfbert)\", position=0):\n",
    "    log(f\"[tfidfbert] Optimising penalty={pen}\")\n",
    "    study = optuna.create_study(direction=\"maximize\", sampler=optuna.samplers.TPESampler(seed=SEED))\n",
    "    # Optuna progress bar shows in console; details go to log file\n",
    "    study.optimize(lambda tr: objective(tr, pen), n_trials=N_TRIALS, show_progress_bar=True)\n",
    "    best_primary = study.best_value\n",
    "    best_params  = study.best_params\n",
    "    log(f\"[tfidfbert] best {primary_metric}: {best_primary:.6f}\")\n",
    "    log(f\"[tfidfbert] best params: {best_params}\")\n",
    "\n",
    "    # ── OOF probabilities & F1-optimal threshold ──\n",
    "    best_params_full = dict(\n",
    "        penalty=pen, solver=\"saga\", max_iter=3_000, random_state=SEED, tol=TOL,\n",
    "        **{k: v for k, v in best_params.items() if k in (\"C\", \"l1_ratio\", \"class_weight\")}\n",
    "    )\n",
    "    pipe = make_pipeline(best_params_full)\n",
    "\n",
    "    with parallel_backend(\"loky\", inner_max_num_threads=1):\n",
    "        probas = cross_val_predict(\n",
    "            pipe, X_tune, y_tune, cv=cv, method=\"predict_proba\", n_jobs=N_JOBS_CV\n",
    "        )[:, 1]\n",
    "\n",
    "    prec, rec, thr = precision_recall_curve(y_tune, probas)\n",
    "    f1_vals = (2 * prec[1:] * rec[1:]) / np.clip(prec[1:] + rec[1:], 1e-12, None)\n",
    "    best_thr = 0.5 if (len(f1_vals) == 0 or np.all(np.isnan(f1_vals))) else float(thr[np.nanargmax(f1_vals)])\n",
    "\n",
    "    y_pred = (probas >= best_thr).astype(int)\n",
    "    roc = roc_auc_score(y_tune, probas)\n",
    "    ap  = average_precision_score(y_tune, probas)\n",
    "    f1  = f1_score(y_tune, y_pred, zero_division=0)\n",
    "    p_  = precision_score(y_tune, y_pred, zero_division=0)\n",
    "    r_  = recall_score(y_tune, y_pred, zero_division=0)\n",
    "\n",
    "    results[pen] = best_primary\n",
    "    metric_table.append(dict(\n",
    "        Penalty=pen, ROC_AUC=roc, Avg_Precision=ap,\n",
    "        F1=f1, Precision=p_, Recall=r_, Threshold=best_thr,\n",
    "        Best_Params=best_params_full\n",
    "    ))\n",
    "    log(f\"[tfidfbert] OOF ROC-AUC={roc:.6f} | AP={ap:.6f} | F1={f1:.6f} @ thr={best_thr:.3f} (P={p_:.3f}, R={r_:.3f})\")\n",
    "\n",
    "# ───────────────── save outputs (no console prints) ───────────────────\n",
    "summary_df = pd.DataFrame(metric_table).set_index(\"Penalty\")\n",
    "summary_csv = saved_dir / \"logreg_tfidfbert_penalties_summary.csv\"\n",
    "summary_df.to_csv(summary_csv)\n",
    "log(f\"[tfidfbert] Saved summary: {summary_csv}\")\n",
    "\n",
    "# Save params as JSON for easy reuse\n",
    "params_json = saved_dir / \"logreg_tfidfbert_best_params.json\"\n",
    "with open(params_json, \"w\", encoding=\"utf-8\") as f:\n",
    "    json.dump({row[\"Penalty\"]: row[\"Best_Params\"] for row in metric_table}, f, indent=2)\n",
    "log(f\"[tfidfbert] Saved best params JSON: {params_json}\")\n",
    "\n",
    "# Save grouped bar chart to file\n",
    "fig, ax = plt.subplots(figsize=(9, 4))\n",
    "x     = np.arange(len(summary_df))\n",
    "width = 0.25\n",
    "ax.bar(x - width, summary_df[\"ROC_AUC\"],       width, label=\"ROC-AUC\")\n",
    "ax.bar(x,         summary_df[\"F1\"],            width, label=\"F1 (best thr)\")\n",
    "ax.bar(x + width, summary_df[\"Avg_Precision\"], width, label=\"Avg Precision\")\n",
    "ax.set_xticks(x)\n",
    "ax.set_xticklabels(summary_df.index)\n",
    "ax.set_ylim(0, 1)\n",
    "ax.set_ylabel(\"Score\")\n",
    "ax.set_title(\"TFIDF+BERT – Penalties: ROC-AUC, F1@best thr, AP\")\n",
    "ax.legend()\n",
    "plt.tight_layout()\n",
    "plot_path = saved_dir / \"logreg_tfidfbert_penalties_scores.png\"\n",
    "plt.savefig(plot_path, dpi=160)\n",
    "plt.close(fig)\n",
    "log(f\"[tfidfbert] Saved plot: {plot_path}\")\n",
    "\n",
    "\n",
    "# New Version made on 8/27/2025, Ready to run\n"
   ]
  },
  {
   "cell_type": "markdown",
   "id": "f793edd2",
   "metadata": {},
   "source": []
  },
  {
   "cell_type": "markdown",
   "id": "9b7b886f",
   "metadata": {},
   "source": []
  },
  {
   "cell_type": "markdown",
   "id": "ff07edb7-ee1d-4ad7-a73f-6f31e7d317e8",
   "metadata": {},
   "source": [
    "## 4.2 Gradient Boosting XGBoost + Optuna "
   ]
  },
  {
   "cell_type": "markdown",
   "id": "4712dfee",
   "metadata": {},
   "source": [
    "### 4.2.1 TF-IDF + Structure Data"
   ]
  },
  {
   "cell_type": "code",
   "execution_count": 60,
   "id": "9f14ed02",
   "metadata": {},
   "outputs": [
    {
     "data": {
      "application/vnd.jupyter.widget-view+json": {
       "model_id": "eed39377e72849979158ef2273b45175",
       "version_major": 2,
       "version_minor": 0
      },
      "text/plain": [
       "Optuna Trials (tfidf):   0%|          | 0/60 [00:00<?, ?it/s]"
      ]
     },
     "metadata": {},
     "output_type": "display_data"
    }
   ],
   "source": [
    "%matplotlib inline\n",
    "\n",
    "# run this *before* import\n",
    "import sys, pathlib\n",
    "project_root = pathlib.Path.cwd().parent          # notebooks → project root\n",
    "sys.path.append(str(project_root))\n",
    "\n",
    "import importlib, utils.XGBoost_optuna_tuner as t; importlib.reload(t)\n",
    "from utils.XGBoost_optuna_tuner import run_xgb_optuna\n",
    "\n",
    "study_tfidf, results_tfidf = run_xgb_optuna(\n",
    "    X_train_tfidf, y_train_tfidf,\n",
    "    dataset_name=\"tfidf\",\n",
    "    n_trials=60,\n",
    "    sampler=None,\n",
    "    tune_threshold=True,\n",
    "    fit_final_model=True,\n",
    ")"
   ]
  },
  {
   "cell_type": "markdown",
   "id": "2af60b54",
   "metadata": {},
   "source": [
    "### 4.2.2 ClinicBERT + Structure Data"
   ]
  },
  {
   "cell_type": "code",
   "execution_count": 61,
   "id": "2f36bdd7",
   "metadata": {},
   "outputs": [
    {
     "data": {
      "application/vnd.jupyter.widget-view+json": {
       "model_id": "bbf30cc8e4174d018aeb3c1989ceb7d3",
       "version_major": 2,
       "version_minor": 0
      },
      "text/plain": [
       "Optuna Trials (clinbert):   0%|          | 0/60 [00:00<?, ?it/s]"
      ]
     },
     "metadata": {},
     "output_type": "display_data"
    }
   ],
   "source": [
    "study_clinbert, results_clinbert = run_xgb_optuna(\n",
    "    X_train_clinbert, y_train_clinbert,\n",
    "    dataset_name=\"clinbert\",\n",
    "    n_trials=60,\n",
    "    sampler=None,\n",
    "    tune_threshold=True,\n",
    "    fit_final_model=True,\n",
    ")"
   ]
  },
  {
   "cell_type": "markdown",
   "id": "8a287e18",
   "metadata": {},
   "source": [
    "### 4.2.3 TF-IDF + ClinicBERT + Structure Data"
   ]
  },
  {
   "cell_type": "code",
   "execution_count": 62,
   "id": "22b75a81",
   "metadata": {},
   "outputs": [
    {
     "data": {
      "application/vnd.jupyter.widget-view+json": {
       "model_id": "2175bb740bcc4837b19bf45f8586524f",
       "version_major": 2,
       "version_minor": 0
      },
      "text/plain": [
       "Optuna Trials (tfidfbert):   0%|          | 0/60 [00:00<?, ?it/s]"
      ]
     },
     "metadata": {},
     "output_type": "display_data"
    }
   ],
   "source": [
    "study_tfidfbert, results_tfidfbert = run_xgb_optuna(\n",
    "    X_train_tfidfbert, y_train_tfidfbert,\n",
    "    dataset_name=\"tfidfbert\",\n",
    "    n_trials=60,\n",
    "    sampler=None,\n",
    "    tune_threshold=True,\n",
    "    fit_final_model=True,\n",
    ")"
   ]
  },
  {
   "cell_type": "markdown",
   "id": "341d6517",
   "metadata": {},
   "source": [
    "## 4.3 Gradient Boosting LightGBM + Optuna "
   ]
  },
  {
   "cell_type": "markdown",
   "id": "07475bf3",
   "metadata": {},
   "source": [
    "### 4.3.1 TF-IDF + Structure Data"
   ]
  },
  {
   "cell_type": "code",
   "execution_count": 69,
   "id": "b384660a",
   "metadata": {},
   "outputs": [
    {
     "name": "stdout",
     "output_type": "stream",
     "text": [
      "7000\n"
     ]
    }
   ],
   "source": [
    "print(len(X_train_tfidf))"
   ]
  },
  {
   "cell_type": "code",
   "execution_count": 70,
   "id": "8ae35566",
   "metadata": {},
   "outputs": [
    {
     "data": {
      "application/vnd.jupyter.widget-view+json": {
       "model_id": "cfd3b73a7b23401da57e371e11d03b3c",
       "version_major": 2,
       "version_minor": 0
      },
      "text/plain": [
       "  0%|          | 0/60 [00:00<?, ?it/s]"
      ]
     },
     "metadata": {},
     "output_type": "display_data"
    },
    {
     "data": {
      "application/vnd.jupyter.widget-view+json": {
       "model_id": "926d6fc3a5294b1ab2e5f7f91cfe67d5",
       "version_major": 2,
       "version_minor": 0
      },
      "text/plain": [
       "OOF:   0%|          | 0/5 [00:00<?, ?it/s]"
      ]
     },
     "metadata": {},
     "output_type": "display_data"
    }
   ],
   "source": [
    "%matplotlib inline\n",
    "\n",
    "# run this *before* import\n",
    "import sys, pathlib\n",
    "project_root = pathlib.Path.cwd().parent          # notebooks → project root\n",
    "sys.path.append(str(project_root))\n",
    "\n",
    "import importlib, utils.lgb_optuna_tuner as t; importlib.reload(t)\n",
    "from utils.lgb_optuna_tuner import run_lgb_optuna\n",
    "\n",
    "study_tfidf, trials_tfidf, paths_tfidf = run_lgb_optuna(\n",
    "    X_train_tfidf, y_train_tfidf,\n",
    "    dataset_name=\"tfidf\",\n",
    "    n_trials=60,          # ~fast but effective\n",
    "    saved_root=None,      # default: parent of CWD -> ./saved/tfidf/\n",
    "    cv_splits=5,\n",
    "    early_stopping_rounds=50,\n",
    ")"
   ]
  },
  {
   "cell_type": "markdown",
   "id": "b9b44a73",
   "metadata": {},
   "source": [
    "### 4.3.2 ClinicBERT + Structure Data"
   ]
  },
  {
   "cell_type": "code",
   "execution_count": 71,
   "id": "3d5adea5",
   "metadata": {},
   "outputs": [
    {
     "data": {
      "application/vnd.jupyter.widget-view+json": {
       "model_id": "5e8b780815064b8a87f2a75777b836a6",
       "version_major": 2,
       "version_minor": 0
      },
      "text/plain": [
       "  0%|          | 0/60 [00:00<?, ?it/s]"
      ]
     },
     "metadata": {},
     "output_type": "display_data"
    },
    {
     "data": {
      "application/vnd.jupyter.widget-view+json": {
       "model_id": "67c55237b7d147d9b6495e5c24638e36",
       "version_major": 2,
       "version_minor": 0
      },
      "text/plain": [
       "OOF:   0%|          | 0/5 [00:00<?, ?it/s]"
      ]
     },
     "metadata": {},
     "output_type": "display_data"
    }
   ],
   "source": [
    "%matplotlib inline\n",
    "\n",
    "study_clin, trials_clin, paths_clin = run_lgb_optuna(\n",
    "    X_train_clinbert, y_train_clinbert,\n",
    "    dataset_name=\"clinbert\",\n",
    "    n_trials=60,\n",
    "    cv_splits=5,\n",
    "    early_stopping_rounds=50,\n",
    ")"
   ]
  },
  {
   "cell_type": "markdown",
   "id": "431ac991",
   "metadata": {},
   "source": [
    "### 4.3.3 TF-IDF + ClinicBERT + Structure Data"
   ]
  },
  {
   "cell_type": "code",
   "execution_count": 72,
   "id": "9c74213e",
   "metadata": {},
   "outputs": [
    {
     "data": {
      "application/vnd.jupyter.widget-view+json": {
       "model_id": "ed84a0a06beb4cbd8c60850b6847c9c8",
       "version_major": 2,
       "version_minor": 0
      },
      "text/plain": [
       "  0%|          | 0/60 [00:00<?, ?it/s]"
      ]
     },
     "metadata": {},
     "output_type": "display_data"
    },
    {
     "data": {
      "application/vnd.jupyter.widget-view+json": {
       "model_id": "c653f14cc5714b2bae02e9e7413e0fcd",
       "version_major": 2,
       "version_minor": 0
      },
      "text/plain": [
       "OOF:   0%|          | 0/5 [00:00<?, ?it/s]"
      ]
     },
     "metadata": {},
     "output_type": "display_data"
    }
   ],
   "source": [
    "%matplotlib inline\n",
    "\n",
    "study_mix, trials_mix, paths_mix = run_lgb_optuna(\n",
    "    X_train_tfidfbert, y_train_tfidfbert,\n",
    "    dataset_name=\"tfidfbert\",\n",
    "    n_trials=60,\n",
    "    cv_splits=5,\n",
    "    early_stopping_rounds=50,\n",
    ")\n"
   ]
  },
  {
   "cell_type": "code",
   "execution_count": 73,
   "id": "9ec17329",
   "metadata": {},
   "outputs": [],
   "source": [
    "# # ── Using the saved final model & threshold later ──\n",
    "# import joblib\n",
    "# bundle = joblib.load(paths_tfidf[\"final_model_pkl\"])\n",
    "# lgb_model = bundle[\"model\"]\n",
    "# thr = bundle[\"threshold\"]\n",
    "\n",
    "# # Predict on new data (probabilities then threshold)\n",
    "# y_prob = lgb_model.predict_proba(X_new)[:, 1]\n",
    "# y_pred = (y_prob >= thr).astype(int)"
   ]
  },
  {
   "cell_type": "markdown",
   "id": "e6887c70",
   "metadata": {},
   "source": [
    "## 4.5 Stacking (RF + LGBM + LR using Stacking Classifier)"
   ]
  },
  {
   "cell_type": "markdown",
   "id": "346a1a19",
   "metadata": {},
   "source": [
    "***Stacking Structure***\n",
    "A two-level stack: Level 1 (base models) generates predictions/probabilities, which feed into Level 2 (meta-model) for final blending. This is efficient and avoids overfitting with proper CV. Use 3-5 fold stratified CV (matching my prior setup) for out-of-fold predictions to train the meta-model, ensuring robustness on imbalance.\n",
    "\n",
    "***Overall Training Flow***\n",
    "\n",
    "1. Split tfbert into stratified CV folds (e.g., 3-5 splits, shuffle=True, random_state=42).\n",
    "2. For each fold: Train bases on train sub-fold (with sampling if needed), predict probs on hold-out sub-fold.\n",
    "3. Collect out-of-fold probs to train the meta-model.\n",
    "4. Refit bases + meta on full tfbert for the final model.\n",
    "5. Evaluate with CV metrics (AP, precision, recall, ROC AUC) and plot bars (similar to my prior code)."
   ]
  },
  {
   "cell_type": "markdown",
   "id": "1396faa4",
   "metadata": {},
   "source": [
    "### 4.5.3 TF-IDF + ClinicBERT + Structure Data"
   ]
  },
  {
   "cell_type": "markdown",
   "id": "804f7812",
   "metadata": {},
   "source": [
    "bases (LR + XGB + LGB) + meta (LR)"
   ]
  },
  {
   "cell_type": "markdown",
   "id": "07a8fcaa",
   "metadata": {},
   "source": [
    "Level-0 (base learners):\n",
    "\n",
    "- RF averages many deep, decorrelated trees → low-variance\n",
    "- LGBM/XGB builds trees sequentially to correct previous errors → low-bias, good at capturing complex interactions\n",
    "\n",
    "Level-1 (meta learner) -- Logistic Regression (LR): \n",
    "- Learns how much to trust each base model for every region of feature space. With the raw features passed through, LR can up-weight one model when certain predictors are present and down-weight it elsewhere.\n",
    "\n",
    "\n",
    "Because the two level-0 learners make uncorrelated errors, LR can often find decision boundaries in the 2-D “prediction space” (RF_prob, LGBM_prob) that neither original model could draw on its own, nudging borderline cases across the 0.5 threshold and lifting ROC-AUC by a few points."
   ]
  },
  {
   "cell_type": "code",
   "execution_count": null,
   "id": "0a9d4cab",
   "metadata": {},
   "outputs": [],
   "source": [
    "import matplotlib.pyplot as plt\n",
    "from matplotlib.patches import FancyBboxPatch, ConnectionPatch\n",
    "\n",
    "fig, ax = plt.subplots(figsize=(12, 6))\n",
    "ax.set_xlim(0, 10)\n",
    "ax.set_ylim(0, 6)\n",
    "ax.axis('off')\n",
    "\n",
    "# Base models\n",
    "ax.add_patch(FancyBboxPatch((1, 4), 2, 1, boxstyle=\"round,pad=0.1\", ec=\"black\", fc=\"lightblue\"))\n",
    "ax.text(2, 4.5, 'LogisticRegression', ha='center', va='center')\n",
    "\n",
    "ax.add_patch(FancyBboxPatch((4, 4), 2, 1, boxstyle=\"round,pad=0.1\", ec=\"black\", fc=\"lightgreen\"))\n",
    "ax.text(5, 4.5, 'XGBClassifier', ha='center', va='center')\n",
    "\n",
    "ax.add_patch(FancyBboxPatch((7, 4), 2, 1, boxstyle=\"round,pad=0.1\", ec=\"black\", fc=\"lightyellow\"))\n",
    "ax.text(8, 4.5, 'LGBMClassifier', ha='center', va='center')\n",
    "\n",
    "# Final estimator\n",
    "ax.add_patch(FancyBboxPatch((4, 1), 2, 1, boxstyle=\"round,pad=0.1\", ec=\"black\", fc=\"lightpink\"))\n",
    "ax.text(5, 1.5, 'LogisticRegression\\n(final_estimator)', ha='center', va='center')\n",
    "\n",
    "# StackingClassifier label\n",
    "ax.text(5, 5.5, 'StackingClassifier', ha='center', va='center', fontsize=14)\n",
    "\n",
    "# Connections from bases to final\n",
    "con1 = ConnectionPatch(xyA=(3, 4.5), xyB=(4, 1.5), coordsA=\"data\", coordsB=\"data\", arrowstyle=\"->\", mutation_scale=15)\n",
    "ax.add_artist(con1)\n",
    "\n",
    "con2 = ConnectionPatch(xyA=(6, 4.5), xyB=(5, 1.5), coordsA=\"data\", coordsB=\"data\", arrowstyle=\"->\", mutation_scale=15)\n",
    "ax.add_artist(con2)\n",
    "\n",
    "con3 = ConnectionPatch(xyA=(7, 4.5), xyB=(6, 1.5), coordsA=\"data\", coordsB=\"data\", arrowstyle=\"->\", mutation_scale=15)\n",
    "ax.add_artist(con3)\n",
    "\n",
    "# Sampler note (applied in CV loop)\n",
    "ax.text(5, 0.5, 'Sampler (ROS or SMOTE) applied in CV loop', ha='center', va='center', fontsize=10)\n",
    "\n",
    "# Title\n",
    "ax.text(5, 0, 'Figure. Stacking Classifier Pipeline', ha='center', va='center', fontsize=12)\n",
    "\n",
    "plt.tight_layout()\n",
    "plt.savefig('stacking_pipeline.png')\n",
    "plt.show()"
   ]
  },
  {
   "cell_type": "code",
   "execution_count": null,
   "id": "563fae51",
   "metadata": {},
   "outputs": [],
   "source": [
    "%matplotlib inline\n",
    "\n",
    "root_dir = Path.cwd().parent          # notebooks → mimic_readmit_clinbert\n",
    "saved_dir = root_dir / \"saved\"\n",
    "\n",
    "import importlib, utils.stacking_ensemble as t; importlib.reload(t)\n",
    "from utils.stacking_ensemble import run_stacking_ensemble\n",
    "\n",
    "# Assuming X_train_tfbert and y_train_tfbert are defined (TF-IDF + ClinicalBERT + structured data)\n",
    "# Load best params (replace with actual file paths/dates from my Optuna/screening runs)\n",
    "with open(saved_dir/'clinicBERT/xgb_optuna_best_params_20250718.json') as f:  # From XGB on cbert (best for XGB)\n",
    "    best_xgb_params = json.load(f)\n",
    "\n",
    "with open(saved_dir/'clinicBERT/lgb_optuna_best_params_20250718.json') as f:  # From LGB on cbert (best for LGB); or use tfbert if tuned there\n",
    "    best_lgb_params = json.load(f)\n",
    "\n",
    "best_lr_params = dict(penalty='l1', C=0.48574509063945326, solver=\"saga\",\n",
    "                max_iter=3_000, random_state=42,\n",
    "                class_weight=\"balanced\")\n",
    "\n",
    "cv3 = StratifiedKFold(n_splits=3, shuffle=True, random_state=42)\n",
    "\n",
    "stack_model_tfbert, results_tfbert = run_stacking_ensemble(\n",
    "    X_train_tfbert, \n",
    "    y_train_tfbert, \n",
    "    dataset_name=\"tfidf_clinicBERT\", \n",
    "    best_lr_params=best_lr_params,\n",
    "    best_xgb_params=best_xgb_params,\n",
    "    best_lgb_params=best_lgb_params,\n",
    "    sampler=\"ros\", \n",
    "    cv=cv3\n",
    ")"
   ]
  },
  {
   "cell_type": "code",
   "execution_count": null,
   "id": "3f9970bf",
   "metadata": {},
   "outputs": [],
   "source": [
    "# Assuming results_tfbert is already available from the previous cell\n",
    "print(f\"Average Precision (AP) at best parameters: {results_tfbert['ap'][0]:.4f}\")"
   ]
  },
  {
   "cell_type": "markdown",
   "id": "518a96a8",
   "metadata": {},
   "source": [
    "The stacking ensemble's poor performance (AP ~0.017, precision/recall 0, ROC AUC ~0.57) is indeed disappointing and far below my individual model benchmarks (e.g., logreg at ~0.16 AP). This indicates the stack is effectively predicting almost all instances as negative, which is a classic failure mode in highly imbalanced binary classification—leading to trivial recall/precision at the default 0.5 threshold while ROC AUC remains mediocre (as it ranks probabilities without thresholding)."
   ]
  },
  {
   "cell_type": "markdown",
   "id": "ab5b71b9",
   "metadata": {},
   "source": [
    "Key Reasons for Underperformance:\n",
    "1. Severe Class Imbalance Leading to Biased Prediction. \n",
    "2. Lack of Diversity in Base Models. \n",
    "3. Parameter Mismatch Across Datasets.\n",
    "4. Overfitting/Underfitting in Stacking Process. \n",
    "5. No Guaranteed Gains from Literature."
   ]
  },
  {
   "cell_type": "markdown",
   "id": "14b47ad3",
   "metadata": {},
   "source": [
    "Below is a drop‑in replacement for run_stacking_ensemble(...) that applies SMOTE to BOTH the training and validation folds inside CV.\n",
    "It includes a _safe_resample helper that automatically (a) lowers k_neighbors for tiny minority counts and (b) falls back to RandomOverSampler for sparse TF‑IDF matrices.\n",
    "\n",
    "    ⚠️ Note: Oversampling the validation fold is nonstandard and will inflate metrics. Use this only for diagnostics/experimentation."
   ]
  },
  {
   "cell_type": "code",
   "execution_count": null,
   "id": "69c00f5d",
   "metadata": {},
   "outputs": [],
   "source": [
    "%matplotlib inline\n",
    "\n",
    "root_dir = Path.cwd().parent          # notebooks → mimic_readmit_clinbert\n",
    "saved_dir = root_dir / \"saved\"\n",
    "\n",
    "import importlib, utils.stacking_ensemble_TestSMOTE as t; importlib.reload(t)\n",
    "from utils.stacking_ensemble_TestSMOTE import run_stacking_ensemble\n",
    "\n",
    "# Assuming X_train_tfbert and y_train_tfbert are defined (TF-IDF + ClinicalBERT + structured data)\n",
    "# Load best params (replace with actual file paths/dates from my Optuna/screening runs)\n",
    "with open(saved_dir/'clinicBERT/xgb_optuna_best_params_20250718.json') as f:  # From XGB on cbert (best for XGB)\n",
    "    best_xgb_params = json.load(f)\n",
    "\n",
    "with open(saved_dir/'clinicBERT/lgb_optuna_best_params_20250718.json') as f:  # From LGB on cbert (best for LGB); or use tfbert if tuned there\n",
    "    best_lgb_params = json.load(f)\n",
    "\n",
    "best_lr_params = dict(penalty='l1', C=0.48574509063945326, solver=\"saga\",\n",
    "                max_iter=3_000, random_state=42,\n",
    "                class_weight=\"balanced\")\n",
    "\n",
    "cv3 = StratifiedKFold(n_splits=3, shuffle=True, random_state=42)\n",
    "\n",
    "# Oversample both train & validation folds with SMOTE (ROS fallback for sparse TF‑IDF)\n",
    "stack_model_tfbert, results_tfbert = run_stacking_ensemble(\n",
    "    X_train_tfbert, \n",
    "    y_train_tfbert, \n",
    "    dataset_name=\"tfidf_clinicBERT\", \n",
    "    best_lr_params=best_lr_params,\n",
    "    best_xgb_params=best_xgb_params,\n",
    "    best_lgb_params=best_lgb_params,\n",
    "    sampler=\"smote\", \n",
    "    cv=cv3\n",
    ")"
   ]
  },
  {
   "cell_type": "markdown",
   "id": "e8aa7aa7",
   "metadata": {},
   "source": [
    "If you want, I can add logging of the effective class ratio per fold after resampling, or support different target ratios (e.g., 1:1 or 1:2)."
   ]
  },
  {
   "cell_type": "markdown",
   "id": "a21b8363",
   "metadata": {},
   "source": [
    "### 4.5.4 TF-IDF + Structure Data (ROC_AUC Optuna)"
   ]
  },
  {
   "cell_type": "code",
   "execution_count": null,
   "id": "e6f4a807",
   "metadata": {},
   "outputs": [],
   "source": [
    "\n",
    "\n",
    "\n",
    "# # ----------------- 0.  Load best-param JSONs ------------------\n",
    "# param_dir = Path(\"Saved\")\n",
    "\n",
    "# with (param_dir/\"lightgbm_optuna_best_params.json\").open() as f:\n",
    "#     lgb_base = json.load(f)          \n",
    "\n",
    "# with (param_dir/\"random_forest_optuna_best_params.json\").open() as f:\n",
    "#     rf_base = json.load(f)          \n",
    "\n",
    "# with(param_dir/\"logistic_regression_L1_optuna_best_params.json\").open() as f:\n",
    "#     lr_base = json.load(f)          \n",
    "\n",
    "# # ----------------- 1. CV splitter ------------------\n",
    "# cv_outer = StratifiedKFold(n_splits=5, shuffle=True, random_state=42)\n",
    "\n",
    "# # ----------------- 2. Optuna objective ------------------\n",
    "# def stack_objective(trial):\n",
    "#     # --- base learners (inner jobs **single-thread**)\n",
    "#     rf = RandomForestClassifier(**rf_base, n_jobs=1, random_state=42)\n",
    "#     lgbm = lgb.LGBMClassifier(**lgb_base, n_jobs=1, random_state=42)\n",
    "\n",
    "#     # --- meta learner: tune only a few high-impact params\n",
    "#     C = trial.suggest_float(\"lr_C\", 1e-3, 10.0, log=True)\n",
    "#     pen = trial.suggest_categorical(\"lr_penalty\", [\"l1\", \"l2\"])\n",
    "\n",
    "#     lr_params = lr_base.copy()\n",
    "#     lr_params.update(\n",
    "#         C=C,\n",
    "#         penalty=pen,\n",
    "#         solver=\"saga\",\n",
    "#         n_jobs=1,\n",
    "#         max_iter=4000,\n",
    "#         random_state=42,\n",
    "#     )\n",
    "\n",
    "#     lr = LogisticRegression(**lr_params)\n",
    "\n",
    "#     stack = StackingClassifier(\n",
    "#         estimators=[('rf', rf), ('lgbm', lgbm)],\n",
    "#         final_estimator=lr,\n",
    "#         passthrough=True,          # feed original features to meta learner\n",
    "#         cv=5,                      # internal CV for meta features\n",
    "#         n_jobs=1                   # keep inner layer single-threaded\n",
    "#     )\n",
    "\n",
    "#     # outer CV parallelised – only one level of parallelism\n",
    "#     auc = cross_val_score(stack, X_train, y_train,\n",
    "#                           cv=cv_outer,\n",
    "#                           scoring=\"roc_auc\",\n",
    "#                           n_jobs=-1).mean()\n",
    "#     return auc\n",
    "\n",
    "# # ----------------- 3.  Run study -----------------------\n",
    "# optuna.logging.set_verbosity(optuna.logging.WARNING)\n",
    "# sampler = optuna.samplers.TPESampler(seed=42)\n",
    "# study   = optuna.create_study(direction=\"maximize\",\n",
    "#                               sampler=sampler,\n",
    "#                               study_name=\"Stack_RF_LGBM_LR\")\n",
    "\n",
    "# with tqdm(total=30, desc=\"Optimising stack\") as pbar:\n",
    "#     study.optimize(stack_objective,\n",
    "#                    n_trials=30,\n",
    "#                    callbacks=[lambda s, t: pbar.update()])\n",
    "\n",
    "# print(f\"Best AUC : {study.best_value:.4f}\")\n",
    "\n",
    "# # ----------------- 4.  Train final model --------------------\n",
    "# best = study.best_params\n",
    "# rf_final  = RandomForestClassifier(**rf_base,  n_jobs=1, random_state=42)\n",
    "# lgb_final = lgb.LGBMClassifier(**lgb_base,     n_jobs=1, random_state=42)\n",
    "\n",
    "# # --- build a clean parameter set for the meta-learner\n",
    "# lr_params = lr_base.copy()            # start from the Optuna-best L1 baseline\n",
    "# lr_params.update(\n",
    "#     C=best[\"lr_C\"],                  # overwrite the tuned values …\n",
    "#     penalty=best[\"lr_penalty\"],\n",
    "#     solver=\"saga\",                   # keep the solver compatible with L1/L2\n",
    "#     n_jobs=1,\n",
    "#     max_iter=4000,\n",
    "#     random_state=42,\n",
    "# )\n",
    "\n",
    "# lr_final = LogisticRegression(**lr_params)\n",
    "\n",
    "# final_stack = StackingClassifier(\n",
    "#     estimators=[(\"rf\", rf_final), (\"lgbm\", lgb_final)],\n",
    "#     final_estimator=lr_final,\n",
    "#     passthrough=True,\n",
    "#     cv=5,\n",
    "#     n_jobs=-1                # only here we parallelise prediction\n",
    "# ).fit(X_train, y_train)\n",
    "\n",
    "# # ----------------- 5.  Persist artefacts --------------------\n",
    "# param_dir.mkdir(exist_ok=True)\n",
    "# joblib.dump(study,       param_dir/\"stack_study.pkl\")\n",
    "# joblib.dump(final_stack, param_dir/\"stack_model.pkl\")\n",
    "# with (param_dir/\"stack_best_params.json\").open(\"w\") as f:\n",
    "#     json.dump(best, f, indent=2)\n",
    "\n",
    "# pd.DataFrame({\n",
    "#     \"trial\": [t.number for t in study.trials],\n",
    "#     \"auc\"  : [t.value  for t in study.trials]\n",
    "# }).to_csv(param_dir/\"stack_trial_scores.csv\", index=False)\n",
    "\n",
    "# # Optional plot\n",
    "# plt.figure(figsize=(8,4))\n",
    "# plt.plot([t.value for t in study.trials], marker=\"o\")\n",
    "# plt.axhline(study.best_value, ls=\"--\")\n",
    "# plt.title(\"Stacking ROC-AUC per Trial\"); plt.xlabel(\"Trial\"); plt.ylabel(\"ROC-AUC\")\n",
    "# plt.tight_layout(); plt.savefig(param_dir/\"stack_trials.png\", dpi=300); plt.show()"
   ]
  },
  {
   "cell_type": "markdown",
   "id": "9ec204cc",
   "metadata": {},
   "source": [
    "### 4.5.5 ClinicBERT + Structure Data (ROC_AUC Optuna)"
   ]
  },
  {
   "cell_type": "code",
   "execution_count": null,
   "id": "c0364299",
   "metadata": {},
   "outputs": [],
   "source": [
    "# # ----------------- 0.  Load best-param JSONs ------------------\n",
    "# param_dir = Path(\"Saved\")\n",
    "\n",
    "# with (param_dir/\"lightgbm_optuna_best_params.json\").open() as f:\n",
    "#     lgb_base = json.load(f)          \n",
    "\n",
    "# with (param_dir/\"random_forest_optuna_best_params.json\").open() as f:\n",
    "#     rf_base = json.load(f)          \n",
    "\n",
    "# with(param_dir/\"logistic_regression_L1_optuna_best_params.json\").open() as f:\n",
    "#     lr_base = json.load(f)          \n",
    "\n",
    "# # ----------------- 1. CV splitter ------------------\n",
    "# cv_outer = StratifiedKFold(n_splits=5, shuffle=True, random_state=42)\n",
    "\n",
    "# # ----------------- 2. Optuna objective ------------------\n",
    "# def stack_objective(trial):\n",
    "#     # --- base learners (inner jobs **single-thread**)\n",
    "#     rf = RandomForestClassifier(**rf_base, n_jobs=1, random_state=42)\n",
    "#     lgbm = lgb.LGBMClassifier(**lgb_base, n_jobs=1, random_state=42)\n",
    "\n",
    "#     # --- meta learner: tune only a few high-impact params\n",
    "#     C = trial.suggest_float(\"lr_C\", 1e-3, 10.0, log=True)\n",
    "#     pen = trial.suggest_categorical(\"lr_penalty\", [\"l1\", \"l2\"])\n",
    "\n",
    "#     lr_params = lr_base.copy()\n",
    "#     lr_params.update(\n",
    "#         C=C,\n",
    "#         penalty=pen,\n",
    "#         solver=\"saga\",\n",
    "#         n_jobs=1,\n",
    "#         max_iter=4000,\n",
    "#         random_state=42,\n",
    "#     )\n",
    "\n",
    "#     lr = LogisticRegression(**lr_params)\n",
    "\n",
    "#     stack = StackingClassifier(\n",
    "#         estimators=[('rf', rf), ('lgbm', lgbm)],\n",
    "#         final_estimator=lr,\n",
    "#         passthrough=True,          # feed original features to meta learner\n",
    "#         cv=5,                      # internal CV for meta features\n",
    "#         n_jobs=1                   # keep inner layer single-threaded\n",
    "#     )\n",
    "\n",
    "#     # outer CV parallelised – only one level of parallelism\n",
    "#     auc = cross_val_score(stack, X_train, y_train,\n",
    "#                           cv=cv_outer,\n",
    "#                           scoring=\"roc_auc\",\n",
    "#                           n_jobs=-1).mean()\n",
    "#     return auc\n",
    "\n",
    "# # ----------------- 3.  Run study -----------------------\n",
    "# optuna.logging.set_verbosity(optuna.logging.WARNING)\n",
    "# sampler = optuna.samplers.TPESampler(seed=42)\n",
    "# study   = optuna.create_study(direction=\"maximize\",\n",
    "#                               sampler=sampler,\n",
    "#                               study_name=\"Stack_RF_LGBM_LR\")\n",
    "\n",
    "# with tqdm(total=30, desc=\"Optimising stack\") as pbar:\n",
    "#     study.optimize(stack_objective,\n",
    "#                    n_trials=30,\n",
    "#                    callbacks=[lambda s, t: pbar.update()])\n",
    "\n",
    "# print(f\"Best AUC : {study.best_value:.4f}\")\n",
    "\n",
    "# # ----------------- 4.  Train final model --------------------\n",
    "# best = study.best_params\n",
    "# rf_final  = RandomForestClassifier(**rf_base,  n_jobs=1, random_state=42)\n",
    "# lgb_final = lgb.LGBMClassifier(**lgb_base,     n_jobs=1, random_state=42)\n",
    "\n",
    "# # --- build a clean parameter set for the meta-learner\n",
    "# lr_params = lr_base.copy()            # start from the Optuna-best L1 baseline\n",
    "# lr_params.update(\n",
    "#     C=best[\"lr_C\"],                  # overwrite the tuned values …\n",
    "#     penalty=best[\"lr_penalty\"],\n",
    "#     solver=\"saga\",                   # keep the solver compatible with L1/L2\n",
    "#     n_jobs=1,\n",
    "#     max_iter=4000,\n",
    "#     random_state=42,\n",
    "# )\n",
    "\n",
    "# lr_final = LogisticRegression(**lr_params)\n",
    "\n",
    "# final_stack = StackingClassifier(\n",
    "#     estimators=[(\"rf\", rf_final), (\"lgbm\", lgb_final)],\n",
    "#     final_estimator=lr_final,\n",
    "#     passthrough=True,\n",
    "#     cv=5,\n",
    "#     n_jobs=-1                # only here we parallelise prediction\n",
    "# ).fit(X_train, y_train)\n",
    "\n",
    "# # ----------------- 5.  Persist artefacts --------------------\n",
    "# param_dir.mkdir(exist_ok=True)\n",
    "# joblib.dump(study,       param_dir/\"stack_study.pkl\")\n",
    "# joblib.dump(final_stack, param_dir/\"stack_model.pkl\")\n",
    "# with (param_dir/\"stack_best_params.json\").open(\"w\") as f:\n",
    "#     json.dump(best, f, indent=2)\n",
    "\n",
    "# pd.DataFrame({\n",
    "#     \"trial\": [t.number for t in study.trials],\n",
    "#     \"auc\"  : [t.value  for t in study.trials]\n",
    "# }).to_csv(param_dir/\"stack_trial_scores.csv\", index=False)\n",
    "\n",
    "# # Optional plot\n",
    "# plt.figure(figsize=(8,4))\n",
    "# plt.plot([t.value for t in study.trials], marker=\"o\")\n",
    "# plt.axhline(study.best_value, ls=\"--\")\n",
    "# plt.title(\"Stacking ROC-AUC per Trial\"); plt.xlabel(\"Trial\"); plt.ylabel(\"ROC-AUC\")\n",
    "# plt.tight_layout(); plt.savefig(param_dir/\"stack_trials.png\", dpi=300); plt.show()"
   ]
  },
  {
   "cell_type": "markdown",
   "id": "74bfde94",
   "metadata": {},
   "source": [
    "No complementary signal: RF and LGBM aren’t adding information that LR-L1 doesn’t already capture. The meta-learner is just blending noise with a strong predictor → dilution of AUC."
   ]
  },
  {
   "cell_type": "markdown",
   "id": "2a74b379",
   "metadata": {},
   "source": [
    "| Model                        | Best ROC AUC | Notes                                   |\n",
    "| ---------------------------- | ------------ | --------------------------------------- |\n",
    "| **Logistic Regression (L1)** | **0.675**    | Highest score; simpler model            |\n",
    "| Stacking ensemble (RF + LGBM + LR)| 0.6568  | Second-best                             |\n",
    "| LightGBM + Optuna            | 0.6423       | fast and scalable                       |\n",
    "| XGBoost + Optuna             | 0.6393       | Slightly behind LightGBM                |\n",
    "| Random Forest + Optuna       | 0.6117       | Lowest; stable but less performant here |\n",
    "\n"
   ]
  },
  {
   "cell_type": "markdown",
   "id": "5733e268",
   "metadata": {},
   "source": [
    "# 5. Precision recall thresholding curve for the best model"
   ]
  },
  {
   "cell_type": "markdown",
   "id": "2aee18bf",
   "metadata": {},
   "source": [
    "In my screening results for the three datasets (tfidf: TF-IDF + structured features; cbert: ClinicalBERT embeddings + structured; tfbert: TF-IDF + ClinicalBERT + structured) across logreg, XGB, LGB and stacking ensemble(bases:logreg + XGB + LGB, meta: logreg) optimized for average precision (AP), logreg on tfbert with L1 regularization outperformed finally with the highest AP value--0.16. I will make a precision recall curves for the best model, and think about what the best threshold is. "
   ]
  },
  {
   "cell_type": "code",
   "execution_count": null,
   "id": "0900168b",
   "metadata": {},
   "outputs": [],
   "source": [
    "%matplotlib inline\n",
    "\n",
    "best_lr_params = dict(penalty='l1', C=0.48574509063945326, solver=\"saga\",\n",
    "                max_iter=3_000, random_state=42,\n",
    "                class_weight=\"balanced\")\n",
    "\n",
    "# Set up CV (matching my prior setup)\n",
    "cv = StratifiedKFold(n_splits=5, shuffle=True, random_state=42)\n",
    "\n",
    "# Pipeline with SMOTE and LR (ensure L1 if not in params; adjust if needed)\n",
    "pipe = ImbPipeline([\n",
    "    (\"smote\", SMOTE(random_state=42)),\n",
    "    (\"clf\", LogisticRegression(**best_lr_params)),\n",
    "])\n",
    "\n",
    "# Get cross-validated probabilities (on full train for evaluation)\n",
    "y_prob = cross_val_predict(\n",
    "    pipe, X_train_tfbert, y_train_tfbert,\n",
    "    cv=cv, method=\"predict_proba\", n_jobs=1\n",
    ")[:, 1]  # Positive class probabilities\n",
    "\n",
    "# Generate thresholds (fine-grained for smooth curves)\n",
    "thresholds = np.linspace(0.01, 0.99, 100)  # Avoid extremes to prevent division by zero\n",
    "\n",
    "# Compute metrics for each threshold\n",
    "precisions = []\n",
    "recalls = []\n",
    "f05_scores = []\n",
    "f1_scores = []\n",
    "f2_scores = []\n",
    "\n",
    "for thresh in thresholds:\n",
    "    y_pred = (y_prob >= thresh).astype(int)\n",
    "    prec = precision_score(y_train_tfbert, y_pred, zero_division=0)\n",
    "    rec = recall_score(y_train_tfbert, y_pred, zero_division=0)\n",
    "    f05 = fbeta_score(y_train_tfbert, y_pred, beta=0.5, zero_division=0)\n",
    "    f1 = fbeta_score(y_train_tfbert, y_pred, beta=1, zero_division=0)\n",
    "    f2 = fbeta_score(y_train_tfbert, y_pred, beta=2, zero_division=0)\n",
    "    \n",
    "    precisions.append(prec)\n",
    "    recalls.append(rec)\n",
    "    f05_scores.append(f05)\n",
    "    f1_scores.append(f1)\n",
    "    f2_scores.append(f2)\n",
    "\n",
    "# Plot the curves\n",
    "fig, ax = plt.subplots(figsize=(10, 6))\n",
    "ax.plot(thresholds, precisions, label='Precision', color='blue')\n",
    "ax.plot(thresholds, recalls, label='Recall', color='green')\n",
    "ax.plot(thresholds, f05_scores, label='F0.5', color='red')\n",
    "ax.plot(thresholds, f1_scores, label='F1', color='purple')\n",
    "ax.plot(thresholds, f2_scores, label='F2', color='orange')\n",
    "\n",
    "ax.set_xlabel('Threshold')\n",
    "ax.set_ylabel('Score')\n",
    "ax.set_title('Precision, Recall, F0.5, F1, F2 vs. Threshold')\n",
    "ax.set_ylim(0, 1)\n",
    "ax.legend()\n",
    "plt.tight_layout()\n",
    "plt.show()"
   ]
  },
  {
   "cell_type": "markdown",
   "id": "f4fca342",
   "metadata": {},
   "source": [
    "**Observations**:\n",
    "   1. Precision Curve (Blue): Starts around ~0.05 at low thresholds and remains very low (<0.05) across most thresholds, only rising slightly near 1.0 (but that's meaningless as recall drops to 0). As noted, this implies that even at optimal points, if I predict 100 positives, fewer than 5 are true positives—over 95% false positives (FPs). This is a hallmark of severe class imbalance: the model struggles to distinguish rare positives from abundant negatives, flooding predictions with FPs.\n",
    "   2. Recall Curve (Green): Begins high (~1.0 at threshold 0.0, catching all positives) but plummets sharply as threshold increases (e.g., drops below 0.2 by ~0.2 threshold). This means the model can identify positives only if very lenient (low threshold), but even small increases in conservatism miss most positives. The dramatic drop suggests the model's probability scores for positives are not well-separated from negatives—many true positives get low probs.\n",
    "   3. F-Scores (Red for F0.5, Purple for F1, Orange for F2): All hug the bottom (<0.1 across thresholds), staying relatively stable but near-zero after the initial drop. F0.5 (precision-weighted) is lowest, reflecting poor precision; F2 (recall-weighted) is slightly higher at low thresholds but still dismal. Stability here is deceptive—it's because both precision and recall are so poor that their balances don't fluctuate much. No threshold yields a good F-score (>0.2-0.3), indicating no \"sweet spot\" for practical use.\n",
    "\n",
    "**Overall Interpretation**: \n",
    "\n",
    "   This result screams \"highly imbalanced dataset with weak signal.\" The model has some discriminative power (as my earlier AP ~0.16 suggests it ranks positives better than random), but at any usable threshold, it's overwhelmed by FPs. Recall crashing while precision stays flat/low points to poor calibration—probabilities aren't confident for positives. This could mean the features (TF-IDF + BERT + structured) *capture noise more than predictive patterns*, or *imbalance (~1% positives?) dominates*. It's not useless (better than random guessing), but suboptimal for deployment without adjustments like cost-sensitive thresholds or more data/augmentation."
   ]
  },
  {
   "cell_type": "markdown",
   "id": "19c8f766",
   "metadata": {},
   "source": [
    "# 6. Feature importance via SHAP Analysis"
   ]
  },
  {
   "cell_type": "code",
   "execution_count": null,
   "id": "bf52394a",
   "metadata": {},
   "outputs": [],
   "source": [
    "%matplotlib inline\n",
    "\n",
    "# Split a small test set for explanation (or use full train; adjust as needed)\n",
    "X_train, X_explain, y_train, y_explain = train_test_split(\n",
    "    X_train_tfbert, y_train_tfbert, test_size=0.2, stratify=y_train_tfbert, random_state=42\n",
    ")\n",
    "\n",
    "# Pipeline for fitting (SMOTE + LR)\n",
    "pipe = ImbPipeline([\n",
    "    (\"smote\", SMOTE(random_state=42)),\n",
    "    (\"clf\", LogisticRegression(**best_lr_params)),\n",
    "])\n",
    "\n",
    "# Fit on train\n",
    "pipe.fit(X_train, y_train)\n",
    "\n",
    "# Extract the fitted LR model (SHAP explains the classifier, not the sampler)\n",
    "lr_model = pipe.named_steps['clf']\n",
    "\n",
    "# Prepare background data for SHAP (summary of training data; use a sample for efficiency)\n",
    "# If data is sparse, convert to dense if needed; adjust sample size based on compute\n",
    "background = shap.kmeans(X_train, 50).data  # Condensed summary (k=50 clusters)\n",
    "\n",
    "# Use LinearExplainer for LogisticRegression (efficient for linear models)\n",
    "explainer = shap.LinearExplainer(lr_model, background, feature_perturbation=\"interventional\")\n",
    "\n",
    "# Compute SHAP values on explain set (or a subset for speed)\n",
    "shap_values = explainer.shap_values(X_explain)\n",
    "\n",
    "# If multi-class or binary logistic, shap_values will be for positive class\n",
    "\n",
    "# Visualizations\n",
    "\n",
    "# 1. Summary plot (beeswarm: global feature importance)\n",
    "shap.summary_plot(shap_values, X_explain, show=False)\n",
    "plt.title(\"SHAP Summary Plot (Beeswarm)\")\n",
    "plt.show()\n",
    "\n",
    "# 2. Bar plot (mean absolute SHAP values for feature importance)\n",
    "shap.summary_plot(shap_values, X_explain, plot_type=\"bar\", show=False)\n",
    "plt.title(\"SHAP Feature Importance (Bar)\")\n",
    "plt.show()\n",
    "\n",
    "# 3. Force plot for a single prediction (e.g., first instance)\n",
    "# Adjust index as needed\n",
    "instance_idx = 0\n",
    "shap.force_plot(explainer.expected_value, shap_values[instance_idx], X_explain.iloc[instance_idx], matplotlib=True)\n",
    "plt.title(f\"SHAP Force Plot for Instance {instance_idx}\")\n",
    "plt.show()\n",
    "\n",
    "# Optional: Dependence plot for a specific feature (replace 'feature_name' with actual)\n",
    "# shap.dependence_plot('feature_name', shap_values, X_explain)\n",
    "\n",
    "# Save SHAP values if needed\n",
    "shap_df = pd.DataFrame(shap_values, columns=X_explain.columns)\n",
    "shap_df.to_csv(saved_dir / f\"shap_values_tfbert_logreg_{ts}.csv\", index=False)"
   ]
  },
  {
   "cell_type": "code",
   "execution_count": null,
   "id": "060f9167",
   "metadata": {},
   "outputs": [],
   "source": [
    "instance_idx = 3\n",
    "shap.force_plot(explainer.expected_value, shap_values[instance_idx], X_explain.iloc[instance_idx], matplotlib=True)\n",
    "plt.title(f\"SHAP Force Plot for Instance {instance_idx}\")\n",
    "plt.show()\n"
   ]
  },
  {
   "cell_type": "code",
   "execution_count": null,
   "id": "f43bdf75",
   "metadata": {},
   "outputs": [],
   "source": [
    "instance_idx = 10\n",
    "shap.force_plot(explainer.expected_value, shap_values[instance_idx], X_explain.iloc[instance_idx], matplotlib=True)\n",
    "plt.title(f\"SHAP Force Plot for Instance {instance_idx}\")\n",
    "plt.show()\n"
   ]
  },
  {
   "cell_type": "markdown",
   "id": "92bfd267",
   "metadata": {},
   "source": [
    "**Observations**:\n",
    "   1.  Reasonable Features: \"Pain\", \"artery\", \"blood\" make sense (predicting adverse outcomes like pain events or vascular issues). \"Advanced_spacy_lemmas_n\" (counts of lemmatized tokens from spaCy NLP) and \"admit_to_disch_hours\" (structured: hospital stay duration) are intuitive—longer stays or more lemmas could correlate with positives. \"Emb_87\" might be a ClinicalBERT embedding dimension capturing semantic patterns.\n",
    "   2.  Unreasonable Features: \"Take\", \"ml\", \"give\", \"new\", \"patient\", \"baseline\", \"please\" seem generic/stopword-like (e.g., from clinical notes: \"take medication\", \"give 5 ml\", \"new patient\", \"please note\"). In TF-IDF, common terms get low weights, but if frequent in positives (e.g., instructions in positive cases), they could rank high. This often happens in imbalanced text models: neutral words appear \"important\" due to correlation (not causation) or data artifacts (e.g., boilerplate text in positive records). \"Baseline\" might refer to medical baselines but could be noisy if ambiguous. SHAP highlights associations, not semantics—so these might be proxies for patterns (e.g., \"take\" correlates with medication mentions in positives) but indicate overfitting to noise rather than meaningful signals.\n",
    "   3.  Higher Values of \"Take\" and \"Artery\" Having Negative Impact:\n",
    "      - What \"Value\" Means: In SHAP beeswarm, \"feature value\" (color) is the raw input value for that feature in an instance. For TF-IDF features like \"take\" or \"artery\", this is the TF-IDF score (0 to 1+; higher = more frequent/important in the document relative to corpus). For structured like \"admit_to_disch_hours\", it's the numeric value (e.g., hours). For BERT embeddings (\"emb_87\"), it's the vector component (-1 to 1 typically). Red dots = high values push SHAP in their direction; blue = low.\n",
    "      - Why Negative Impact for Higher Values?: For \"take\" and \"artery\", red dots (high values) cluster on the left (negative SHAP), meaning higher occurrences/TF-IDF of these terms decrease the predicted probability of positive class. This counterintuitive result could mean:\n",
    "          - Inverse Correlation: In my data, frequent \"take\" (e.g., \"take meds\") or \"artery\" mentions appear more in negatives (routine notes) than positives (rare events). Or, positives have sparse mentions, so high values signal \"normal\" cases.\n",
    "          - Model Learning Spurious Patterns: LR with L1 might penalize these as noise, assigning negative coefficients. In imbalance, the model prioritizes avoiding FPs, so features common in negatives get negative weights.\n",
    "          - Collinearity/Interactions: These interact with others (e.g., high \"artery\" + low \"pain\" = negative). SHAP shows marginal contributions, so a feature positive in isolation could be negative overall.\n",
    "          - Data Artifacts: If \"artery\" is from misparsed text or correlated with negatives (e.g., artery scans in stable patients), it pulls predictions down.\n",
    "  \n",
    "        - This doesn't invalidate the model but highlights potential issues: noisy features or insufficient positives to learn true associations."
   ]
  },
  {
   "cell_type": "markdown",
   "id": "551d0488",
   "metadata": {},
   "source": [
    "**Summary**:\n",
    "Overall, Is the Modeling Failing?\n",
    "\n",
    "Not completely failing, but it's underperforming and likely not ready for real-world use without fixes. Here's a balanced view:\n",
    "\n",
    "- Strengths/Signs of Success:\n",
    "    - AP ~0.16 is better than random (0.01-0.05 for 1% imbalance), showing some signal capture (e.g., reasonable features like \"pain\", \"blood\").\n",
    "    - SHAP reveals interpretable patterns (e.g., medical terms dominating), useful for domain insights/refinement.\n",
    "    - Threshold chart shows tunable recall at low thresholds, potentially viable if FPs are tolerable (e.g., screening tool).\n",
    "- Weaknesses/Signs of Failure:\n",
    "    - Dismal precision/F-scores indicate FP overload—model isn't precise enough for tasks needing low errors (e.g., clinical alerts).\n",
    "    - Unreasonable SHAP features suggest overfitting to noise/correlations, common in high-dim text data with imbalance.\n",
    "    - No threshold balances prec/recall well, and negative impacts on intuitive features like \"artery\" hint at data/model mismatches.\n",
    "- Why This Happens/Recommendations:\n",
    "    - Severe Imbalance: With few positives, models learn \"predict negative always\" as safe. Fix: More aggressive sampling (e.g., SMOTE ratio=1.0), focal loss, or ensemble with calibrated boosters.\n",
    "    - Feature Engineering: Prune generic tokens (\"take\", \"please\") via stopword removal or feature selection. For BERT, fine-tune on  my task.\n",
    "    - Model Choices: LR is simple but limited; try calibrated XGB/LGB on tfbert or DL (e.g., BERT classifier) for better separation.\n",
    "    - Evaluation: Test on hold-out data; compute AUPRC (my AP is this) vs. AUROC (inflated in imbalance). Aim for prec>0.1 at rec=0.5.\n",
    "    - Not Total Failure: It ranks positives somewhat (AP>baseline), so iterate—add positives, clean features, or hybrid models.\n",
    "\n",
    "If AP stalls, collect more data or use transfer learning. Share positive count/dataset size for tailored advice!"
   ]
  },
  {
   "cell_type": "markdown",
   "id": "acebb71a",
   "metadata": {},
   "source": [
    "# 7. Save and Export a Conda Environment (.yml)"
   ]
  },
  {
   "cell_type": "markdown",
   "id": "15c2dd87",
   "metadata": {},
   "source": [
    "## 7.1 Save"
   ]
  },
  {
   "cell_type": "code",
   "execution_count": null,
   "id": "7be54a37",
   "metadata": {},
   "outputs": [],
   "source": [
    "root_dir = Path.cwd().parent          # notebooks → mimic_readmit_clinbert\n",
    "saved_dir = root_dir / \"saved\"\n",
    "\n",
    "# Save the model with a timestamp to avoid overwriting\n",
    "timestamp = pd.Timestamp.now().strftime(\"%Y%m%d_%H%M%S\")\n",
    "filename = f\"lr_model_best_params_{timestamp}.joblib\"\n",
    "joblib.dump(lr_model, saved_dir / filename)"
   ]
  },
  {
   "cell_type": "markdown",
   "id": "32783c17",
   "metadata": {},
   "source": [
    "## 7.2 Export a Conda Environment (.yml)"
   ]
  },
  {
   "cell_type": "code",
   "execution_count": null,
   "id": "6ce4c58c",
   "metadata": {},
   "outputs": [],
   "source": [
    "import datetime\n",
    "from pathlib import Path\n",
    "import subprocess\n",
    "import os\n",
    "\n",
    "# Define paths and parameters\n",
    "env_name = \"readm\"\n",
    "timestamp = datetime.datetime.now().strftime(\"%Y%m%d_%H%M%S\")\n",
    "saved_dir = Path(r\"c:\\Users\\Sheng Miao\\mimic_readmit_clinbert\\saved\")\n",
    "yml_file = saved_dir / f\"env_{env_name}_{timestamp}.yml\"\n",
    "\n",
    "# Ensure directory exists\n",
    "saved_dir.mkdir(parents=True, exist_ok=True)\n",
    "\n",
    "try:\n",
    "    # Attempt to export the current environment\n",
    "    result = subprocess.run(\n",
    "        ['conda', 'env', 'export'], \n",
    "        capture_output=True, \n",
    "        text=True, \n",
    "        check=False,\n",
    "        shell=True  # Use shell to handle Windows command context better\n",
    "    )\n",
    "    \n",
    "    # Check the result\n",
    "    if result.returncode == 0:\n",
    "        with open(yml_file, 'w', encoding='utf-8') as f:  # Explicit encoding\n",
    "            f.write(result.stdout)\n",
    "        print(f\"Environment exported to: {yml_file}\")\n",
    "        print(f\"File size: {os.path.getsize(yml_file)} bytes\")\n",
    "        with open(yml_file, 'r', encoding='utf-8') as f:\n",
    "            print(f\"First 200 characters of content: {f.read()[:200]}\")\n",
    "    else:\n",
    "        print(f\"Conda command failed with return code {result.returncode}\")\n",
    "        print(f\"Stdout: {result.stdout}\")\n",
    "        print(f\"Stderr: {result.stderr}\")\n",
    "\n",
    "except PermissionError as e:\n",
    "    print(f\"Permission denied: {e}. This should not occur with Full Control.\")\n",
    "except FileNotFoundError:\n",
    "    print(\"Conda executable not found. Check if Conda is in your PATH.\")\n",
    "except Exception as e:\n",
    "    print(f\"Unexpected error: {e}\")\n",
    "\n",
    "# Additional diagnostic: Check Conda info\n",
    "print(\"\\nConda info diagnostic:\")\n",
    "!conda info"
   ]
  }
 ],
 "metadata": {
  "environment": {
   "kernel": "ds_env",
   "name": "workbench-notebooks.m130",
   "type": "gcloud",
   "uri": "us-docker.pkg.dev/deeplearning-platform-release/gcr.io/workbench-notebooks:m130"
  },
  "kernelspec": {
   "display_name": "mimic-readmit",
   "language": "python",
   "name": "python3"
  },
  "language_info": {
   "codemirror_mode": {
    "name": "ipython",
    "version": 3
   },
   "file_extension": ".py",
   "mimetype": "text/x-python",
   "name": "python",
   "nbconvert_exporter": "python",
   "pygments_lexer": "ipython3",
   "version": "3.10.18"
  },
  "toc-autonumbering": false
 },
 "nbformat": 4,
 "nbformat_minor": 5
}
